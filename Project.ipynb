{
 "cells": [
  {
   "cell_type": "code",
   "execution_count": 51,
   "id": "a6b796bd",
   "metadata": {
    "scrolled": true
   },
   "outputs": [],
   "source": [
    "import numpy as np\n",
    "import pandas as pd\n",
    "from pandasql import sqldf\n",
    "from datetime import datetime\n",
    "from bs4 import BeautifulSoup\n",
    "import requests\n",
    "import sqlalchemy\n",
    "import matplotlib.pyplot as plt\n",
    "import os\n",
    "import re\n",
    "import random\n",
    "import math\n",
    "from keplergl import KeplerGl\n",
    "from pathlib import Path\n",
    "import glob"
   ]
  },
  {
   "cell_type": "code",
   "execution_count": 87,
   "id": "0f1e45b9",
   "metadata": {},
   "outputs": [],
   "source": [
    "import warnings\n",
    "from pandas.core.common import SettingWithCopyWarning\n",
    "warnings.simplefilter(action=\"ignore\", category=SettingWithCopyWarning)"
   ]
  },
  {
   "cell_type": "markdown",
   "id": "62ff2233",
   "metadata": {},
   "source": [
    "# Part 1. Data Processing"
   ]
  },
  {
   "cell_type": "markdown",
   "id": "1b114acf",
   "metadata": {},
   "source": [
    "Download yellow taxi data from official website"
   ]
  },
  {
   "cell_type": "code",
   "execution_count": 2,
   "id": "1f458d41",
   "metadata": {
    "scrolled": true
   },
   "outputs": [],
   "source": [
    "url = \"https://www1.nyc.gov/site/tlc/about/tlc-trip-record-data.page\"\n",
    "r = requests.get(url)"
   ]
  },
  {
   "cell_type": "code",
   "execution_count": 6,
   "id": "2249e4a1",
   "metadata": {
    "scrolled": true
   },
   "outputs": [
    {
     "name": "stdout",
     "output_type": "stream",
     "text": [
      "yellow data/yellow_tripdata_2015-01.csv\n",
      "yellow_tripdata_2015-01.csv  exist in folder owo\n",
      "yellow data/yellow_tripdata_2015-02.csv\n",
      "yellow_tripdata_2015-02.csv  exist in folder owo\n",
      "yellow data/yellow_tripdata_2015-03.csv\n",
      "yellow_tripdata_2015-03.csv  exist in folder owo\n",
      "yellow data/yellow_tripdata_2015-04.csv\n",
      "yellow_tripdata_2015-04.csv  exist in folder owo\n",
      "yellow data/yellow_tripdata_2015-05.csv\n",
      "yellow_tripdata_2015-05.csv  exist in folder owo\n",
      "yellow data/yellow_tripdata_2015-06.csv\n",
      "yellow_tripdata_2015-06.csv  exist in folder owo\n",
      "yellow data/yellow_tripdata_2014-01.csv\n",
      "yellow_tripdata_2014-01.csv  exist in folder owo\n",
      "yellow data/yellow_tripdata_2014-02.csv\n",
      "yellow_tripdata_2014-02.csv  exist in folder owo\n",
      "yellow data/yellow_tripdata_2014-03.csv\n",
      "yellow_tripdata_2014-03.csv  exist in folder owo\n",
      "yellow data/yellow_tripdata_2014-04.csv\n",
      "yellow_tripdata_2014-04.csv  exist in folder owo\n",
      "yellow data/yellow_tripdata_2014-05.csv\n",
      "yellow_tripdata_2014-05.csv  exist in folder owo\n",
      "yellow data/yellow_tripdata_2014-06.csv\n",
      "yellow_tripdata_2014-06.csv  exist in folder owo\n",
      "yellow data/yellow_tripdata_2014-07.csv\n",
      "yellow_tripdata_2014-07.csv  exist in folder owo\n",
      "yellow data/yellow_tripdata_2014-08.csv\n",
      "yellow_tripdata_2014-08.csv  exist in folder owo\n",
      "yellow data/yellow_tripdata_2014-09.csv\n",
      "yellow_tripdata_2014-09.csv  exist in folder owo\n",
      "yellow data/yellow_tripdata_2014-10.csv\n",
      "yellow_tripdata_2014-10.csv  exist in folder owo\n",
      "yellow data/yellow_tripdata_2014-11.csv\n",
      "yellow_tripdata_2014-11.csv  exist in folder owo\n",
      "yellow data/yellow_tripdata_2014-12.csv\n",
      "yellow_tripdata_2014-12.csv  exist in folder owo\n",
      "yellow data/yellow_tripdata_2013-01.csv\n",
      "yellow_tripdata_2013-01.csv  exist in folder owo\n",
      "yellow data/yellow_tripdata_2013-02.csv\n",
      "yellow_tripdata_2013-02.csv  exist in folder owo\n",
      "yellow data/yellow_tripdata_2013-03.csv\n",
      "yellow_tripdata_2013-03.csv  exist in folder owo\n",
      "yellow data/yellow_tripdata_2013-04.csv\n",
      "yellow_tripdata_2013-04.csv  exist in folder owo\n",
      "yellow data/yellow_tripdata_2013-05.csv\n",
      "yellow_tripdata_2013-05.csv  exist in folder owo\n",
      "yellow data/yellow_tripdata_2013-06.csv\n",
      "yellow_tripdata_2013-06.csv  exist in folder owo\n",
      "yellow data/yellow_tripdata_2013-07.csv\n",
      "yellow_tripdata_2013-07.csv  exist in folder owo\n",
      "yellow data/yellow_tripdata_2013-08.csv\n",
      "yellow_tripdata_2013-08.csv  exist in folder owo\n",
      "yellow data/yellow_tripdata_2013-09.csv\n",
      "yellow_tripdata_2013-09.csv  exist in folder owo\n",
      "yellow data/yellow_tripdata_2013-10.csv\n",
      "yellow_tripdata_2013-10.csv  exist in folder owo\n",
      "yellow data/yellow_tripdata_2013-11.csv\n",
      "yellow_tripdata_2013-11.csv  exist in folder owo\n",
      "yellow data/yellow_tripdata_2013-12.csv\n",
      "yellow_tripdata_2013-12.csv  exist in folder owo\n",
      "yellow data/yellow_tripdata_2012-01.csv\n",
      "yellow_tripdata_2012-01.csv  exist in folder owo\n",
      "yellow data/yellow_tripdata_2012-02.csv\n",
      "yellow_tripdata_2012-02.csv  exist in folder owo\n",
      "yellow data/yellow_tripdata_2012-03.csv\n",
      "yellow_tripdata_2012-03.csv  exist in folder owo\n",
      "yellow data/yellow_tripdata_2012-04.csv\n",
      "yellow_tripdata_2012-04.csv  exist in folder owo\n",
      "yellow data/yellow_tripdata_2012-05.csv\n",
      "yellow_tripdata_2012-05.csv  exist in folder owo\n",
      "yellow data/yellow_tripdata_2012-06.csv\n",
      "yellow_tripdata_2012-06.csv  exist in folder owo\n",
      "yellow data/yellow_tripdata_2012-07.csv\n",
      "yellow_tripdata_2012-07.csv  exist in folder owo\n",
      "yellow data/yellow_tripdata_2012-08.csv\n",
      "yellow_tripdata_2012-08.csv  exist in folder owo\n",
      "yellow data/yellow_tripdata_2012-09.csv\n",
      "yellow_tripdata_2012-09.csv  exist in folder owo\n",
      "yellow data/yellow_tripdata_2012-10.csv\n",
      "yellow_tripdata_2012-10.csv  exist in folder owo\n",
      "yellow data/yellow_tripdata_2012-11.csv\n",
      "yellow_tripdata_2012-11.csv  exist in folder owo\n",
      "yellow data/yellow_tripdata_2012-12.csv\n",
      "yellow_tripdata_2012-12.csv  exist in folder owo\n",
      "yellow data/yellow_tripdata_2011-01.csv\n",
      "yellow_tripdata_2011-01.csv  exist in folder owo\n",
      "yellow data/yellow_tripdata_2011-02.csv\n",
      "yellow_tripdata_2011-02.csv  exist in folder owo\n",
      "yellow data/yellow_tripdata_2011-03.csv\n",
      "yellow_tripdata_2011-03.csv  exist in folder owo\n",
      "yellow data/yellow_tripdata_2011-04.csv\n",
      "yellow_tripdata_2011-04.csv  exist in folder owo\n",
      "yellow data/yellow_tripdata_2011-05.csv\n",
      "yellow_tripdata_2011-05.csv  exist in folder owo\n",
      "yellow data/yellow_tripdata_2011-06.csv\n",
      "yellow_tripdata_2011-06.csv  exist in folder owo\n",
      "yellow data/yellow_tripdata_2011-07.csv\n",
      "yellow_tripdata_2011-07.csv  exist in folder owo\n",
      "yellow data/yellow_tripdata_2011-08.csv\n",
      "yellow_tripdata_2011-08.csv  exist in folder owo\n",
      "yellow data/yellow_tripdata_2011-09.csv\n",
      "yellow_tripdata_2011-09.csv  exist in folder owo\n",
      "yellow data/yellow_tripdata_2011-10.csv\n",
      "yellow_tripdata_2011-10.csv  exist in folder owo\n",
      "yellow data/yellow_tripdata_2011-11.csv\n",
      "yellow_tripdata_2011-11.csv  exist in folder owo\n",
      "yellow data/yellow_tripdata_2011-12.csv\n",
      "yellow_tripdata_2011-12.csv  exist in folder owo\n",
      "yellow data/yellow_tripdata_2010-01.csv\n",
      "yellow_tripdata_2010-01.csv  exist in folder owo\n",
      "yellow data/yellow_tripdata_2010-02.csv\n",
      "yellow_tripdata_2010-02.csv  exist in folder owo\n",
      "yellow data/yellow_tripdata_2010-03.csv\n",
      "yellow_tripdata_2010-03.csv  exist in folder owo\n",
      "yellow data/yellow_tripdata_2010-04.csv\n",
      "yellow_tripdata_2010-04.csv  exist in folder owo\n",
      "yellow data/yellow_tripdata_2010-05.csv\n",
      "yellow_tripdata_2010-05.csv  exist in folder owo\n",
      "yellow data/yellow_tripdata_2010-06.csv\n",
      "yellow_tripdata_2010-06.csv  exist in folder owo\n",
      "yellow data/yellow_tripdata_2010-07.csv\n",
      "yellow_tripdata_2010-07.csv  exist in folder owo\n",
      "yellow data/yellow_tripdata_2010-08.csv\n",
      "yellow_tripdata_2010-08.csv  exist in folder owo\n",
      "yellow data/yellow_tripdata_2010-09.csv\n",
      "yellow_tripdata_2010-09.csv  doesn't exist in folder o_o\n",
      "downloading: https://s3.amazonaws.com/nyc-tlc/trip+data/yellow_tripdata_2010-09.csv\n",
      "yellow data/yellow_tripdata_2010-10.csv\n",
      "yellow_tripdata_2010-10.csv  doesn't exist in folder o_o\n",
      "downloading: https://s3.amazonaws.com/nyc-tlc/trip+data/yellow_tripdata_2010-10.csv\n",
      "yellow data/yellow_tripdata_2010-11.csv\n",
      "yellow_tripdata_2010-11.csv  doesn't exist in folder o_o\n",
      "downloading: https://s3.amazonaws.com/nyc-tlc/trip+data/yellow_tripdata_2010-11.csv\n",
      "yellow data/yellow_tripdata_2010-12.csv\n",
      "yellow_tripdata_2010-12.csv  doesn't exist in folder o_o\n",
      "downloading: https://s3.amazonaws.com/nyc-tlc/trip+data/yellow_tripdata_2010-12.csv\n",
      "yellow data/yellow_tripdata_2009-01.csv\n",
      "yellow_tripdata_2009-01.csv  doesn't exist in folder o_o\n",
      "downloading: https://s3.amazonaws.com/nyc-tlc/trip+data/yellow_tripdata_2009-01.csv\n",
      "yellow data/yellow_tripdata_2009-02.csv\n",
      "yellow_tripdata_2009-02.csv  doesn't exist in folder o_o\n",
      "downloading: https://s3.amazonaws.com/nyc-tlc/trip+data/yellow_tripdata_2009-02.csv\n",
      "yellow data/yellow_tripdata_2009-03.csv\n",
      "yellow_tripdata_2009-03.csv  doesn't exist in folder o_o\n",
      "downloading: https://s3.amazonaws.com/nyc-tlc/trip+data/yellow_tripdata_2009-03.csv\n",
      "yellow data/yellow_tripdata_2009-04.csv\n",
      "yellow_tripdata_2009-04.csv  doesn't exist in folder o_o\n",
      "downloading: https://s3.amazonaws.com/nyc-tlc/trip+data/yellow_tripdata_2009-04.csv\n",
      "yellow data/yellow_tripdata_2009-05.csv\n",
      "yellow_tripdata_2009-05.csv  doesn't exist in folder o_o\n",
      "downloading: https://s3.amazonaws.com/nyc-tlc/trip+data/yellow_tripdata_2009-05.csv\n",
      "yellow data/yellow_tripdata_2009-06.csv\n",
      "yellow_tripdata_2009-06.csv  doesn't exist in folder o_o\n",
      "downloading: https://s3.amazonaws.com/nyc-tlc/trip+data/yellow_tripdata_2009-06.csv\n",
      "yellow data/yellow_tripdata_2009-07.csv\n",
      "yellow_tripdata_2009-07.csv  doesn't exist in folder o_o\n",
      "downloading: https://s3.amazonaws.com/nyc-tlc/trip+data/yellow_tripdata_2009-07.csv\n",
      "yellow data/yellow_tripdata_2009-08.csv\n",
      "yellow_tripdata_2009-08.csv  doesn't exist in folder o_o\n",
      "downloading: https://s3.amazonaws.com/nyc-tlc/trip+data/yellow_tripdata_2009-08.csv\n",
      "yellow data/yellow_tripdata_2009-09.csv\n",
      "yellow_tripdata_2009-09.csv  doesn't exist in folder o_o\n",
      "downloading: https://s3.amazonaws.com/nyc-tlc/trip+data/yellow_tripdata_2009-09.csv\n",
      "yellow data/yellow_tripdata_2009-10.csv\n",
      "yellow_tripdata_2009-10.csv  doesn't exist in folder o_o\n",
      "downloading: https://s3.amazonaws.com/nyc-tlc/trip+data/yellow_tripdata_2009-10.csv\n",
      "yellow data/yellow_tripdata_2009-11.csv\n",
      "yellow_tripdata_2009-11.csv  doesn't exist in folder o_o\n",
      "downloading: https://s3.amazonaws.com/nyc-tlc/trip+data/yellow_tripdata_2009-11.csv\n"
     ]
    },
    {
     "name": "stdout",
     "output_type": "stream",
     "text": [
      "yellow data/yellow_tripdata_2009-12.csv\n",
      "yellow_tripdata_2009-12.csv  doesn't exist in folder o_o\n",
      "downloading: https://s3.amazonaws.com/nyc-tlc/trip+data/yellow_tripdata_2009-12.csv\n"
     ]
    }
   ],
   "source": [
    "def download_data(url, outdir):\n",
    "    \"\"\"This function downloads data from website\"\"\"\n",
    "    filename = url.split('/')[-1]\n",
    "    path = os.path.join(outdir, filename)\n",
    "    print(path)\n",
    "    if os.path.isfile(path): #if exists, skip to the next one\n",
    "        print(filename, ' exist in folder owo')\n",
    "    else:\n",
    "        print(filename, \" doesn't exist in folder o_o\")\n",
    "        print(\"downloading: \" + url)\n",
    "        r = requests.get(url)\n",
    "        with open(path, \"wb\") as f:\n",
    "            f.write(r.content)\n",
    "\n",
    "\n",
    "def download_yellow_tripdata(outdir=r\"yellow data/\"):\n",
    "     \"\"\"This function extracts downloaded data\"\"\"\n",
    "    soup = BeautifulSoup(r.text)\n",
    "    urls = []\n",
    "    for tag in soup.findAll('a', href=re.compile(\"yellow_tripdata.+\\.csv$\")):\n",
    "        yyyy, mm = re.search(r'([0-9]+)-([0-9]+).csv$', tag.get(\"href\")).groups()\n",
    "        yyyy, mm = int(yyyy), int(mm) #convert to integers\n",
    "        if ((yyyy >= 2009) and (yyyy < 2015)) or ((yyyy == 2015) and (mm <= 6)):\n",
    "            urls.append(tag.get(\"href\"))\n",
    "\n",
    "    for url in urls:\n",
    "        download_data(url, outdir)\n",
    "        \n",
    "download_yellow_tripdata()\n"
   ]
  },
  {
   "cell_type": "markdown",
   "id": "60397ed4",
   "metadata": {},
   "source": [
    "There exist four kinds of column names, see below"
   ]
  },
  {
   "cell_type": "code",
   "execution_count": 345,
   "id": "4d94fa82",
   "metadata": {
    "scrolled": true
   },
   "outputs": [
    {
     "data": {
      "text/plain": [
       "Index(['vendor_id', ' pickup_datetime', ' dropoff_datetime',\n",
       "       ' passenger_count', ' trip_distance', ' pickup_longitude',\n",
       "       ' pickup_latitude', ' rate_code', ' store_and_fwd_flag',\n",
       "       ' dropoff_longitude', ' dropoff_latitude', ' payment_type',\n",
       "       ' fare_amount', ' surcharge', ' mta_tax', ' tip_amount',\n",
       "       ' tolls_amount', ' total_amount'],\n",
       "      dtype='object')"
      ]
     },
     "execution_count": 345,
     "metadata": {},
     "output_type": "execute_result"
    }
   ],
   "source": [
    "d1 = pd.read_csv(\"yellow data/yellow_tripdata_2014-08.csv\")\n",
    "d1.columns"
   ]
  },
  {
   "cell_type": "code",
   "execution_count": 346,
   "id": "400ec584",
   "metadata": {
    "scrolled": true
   },
   "outputs": [
    {
     "data": {
      "text/plain": [
       "Index(['vendor_name', 'Trip_Pickup_DateTime', 'Trip_Dropoff_DateTime',\n",
       "       'Passenger_Count', 'Trip_Distance', 'Start_Lon', 'Start_Lat',\n",
       "       'Rate_Code', 'store_and_forward', 'End_Lon', 'End_Lat', 'Payment_Type',\n",
       "       'Fare_Amt', 'surcharge', 'mta_tax', 'Tip_Amt', 'Tolls_Amt',\n",
       "       'Total_Amt'],\n",
       "      dtype='object')"
      ]
     },
     "execution_count": 346,
     "metadata": {},
     "output_type": "execute_result"
    }
   ],
   "source": [
    "d2 = pd.read_csv(\"yellow data/yellow_tripdata_2009-03.csv\")\n",
    "d2.columns"
   ]
  },
  {
   "cell_type": "code",
   "execution_count": 29,
   "id": "48c1550f",
   "metadata": {
    "scrolled": true
   },
   "outputs": [
    {
     "data": {
      "text/plain": [
       "Index(['vendor_id', 'pickup_datetime', 'dropoff_datetime', 'passenger_count',\n",
       "       'trip_distance', 'pickup_longitude', 'pickup_latitude', 'rate_code',\n",
       "       'store_and_fwd_flag', 'dropoff_longitude', 'dropoff_latitude',\n",
       "       'payment_type', 'fare_amount', 'surcharge', 'mta_tax', 'tip_amount',\n",
       "       'tolls_amount', 'total_amount'],\n",
       "      dtype='object')"
      ]
     },
     "execution_count": 29,
     "metadata": {},
     "output_type": "execute_result"
    }
   ],
   "source": [
    "d3 = pd.read_csv(\"yellow data/yellow_tripdata_2011-05.csv\")\n",
    "d3.columns"
   ]
  },
  {
   "cell_type": "code",
   "execution_count": 347,
   "id": "718ba579",
   "metadata": {
    "scrolled": true
   },
   "outputs": [
    {
     "data": {
      "text/plain": [
       "Index(['VendorID', 'tpep_pickup_datetime', 'tpep_dropoff_datetime',\n",
       "       'passenger_count', 'trip_distance', 'pickup_longitude',\n",
       "       'pickup_latitude', 'RateCodeID', 'store_and_fwd_flag',\n",
       "       'dropoff_longitude', 'dropoff_latitude', 'payment_type', 'fare_amount',\n",
       "       'extra', 'mta_tax', 'tip_amount', 'tolls_amount',\n",
       "       'improvement_surcharge', 'total_amount'],\n",
       "      dtype='object')"
      ]
     },
     "execution_count": 347,
     "metadata": {},
     "output_type": "execute_result"
    }
   ],
   "source": [
    "d4 = pd.read_csv(\"yellow data/yellow_tripdata_2015-03.csv\")\n",
    "d4.columns"
   ]
  },
  {
   "cell_type": "markdown",
   "id": "76201d33",
   "metadata": {},
   "source": [
    "Four kinds of column names are listed as col_name1, col_name2, col_name3, col_name4"
   ]
  },
  {
   "cell_type": "code",
   "execution_count": 30,
   "id": "3feb5813",
   "metadata": {
    "scrolled": true
   },
   "outputs": [],
   "source": [
    "col_name1 = [\"tpep_pickup_datetime\", \"pickup_longitude\", \"pickup_latitude\", \"dropoff_longitude\", \"dropoff_latitude\",\"tip_amount\",\"total_amount\"]\n",
    "col_name2 = [\" pickup_datetime\", \" pickup_longitude\", \" pickup_latitude\", \" dropoff_longitude\", \" dropoff_latitude\",\" tip_amount\",\" total_amount\"]\n",
    "col_name3 = [\"Trip_Pickup_DateTime\", \"Start_Lon\",\"Start_Lat\",\"End_Lon\", \"End_Lat\", \"Tip_Amt\",\"Total_Amt\"]\n",
    "col_name4 = [\"pickup_datetime\", \"pickup_longitude\", \"pickup_latitude\", \"dropoff_longitude\", \"dropoff_latitude\",\"tip_amount\",\"total_amount\"]"
   ]
  },
  {
   "cell_type": "markdown",
   "id": "8efc2a2c",
   "metadata": {},
   "source": [
    "Process yellow taxi data, and assign the same column name for each dataset, and save processed data in the folder \"red data\""
   ]
  },
  {
   "cell_type": "code",
   "execution_count": 46,
   "id": "a0a85a2f",
   "metadata": {
    "scrolled": true
   },
   "outputs": [],
   "source": [
    "col_name = [\"pickup_datetime\", \"pickup_longitude\", \"pickup_latitude\", \"dropoff_longitude\", \"dropoff_latitude\",\"tip_amount\",\"total_amount\"]\n",
    "directory = r'yellow data/'\n",
    "\n",
    "\n",
    "for filename in os.listdir(directory):\n",
    "    if os.path.exists(f\"red data/{filename}\"):\n",
    "        continue\n",
    "    else:\n",
    "        f = os.path.join(directory, filename)\n",
    "        df = pd.read_csv(f, encoding= 'unicode_escape',low_memory=False)\n",
    "        try:\n",
    "            df = df[col_name1]\n",
    "        except:\n",
    "            try:\n",
    "                df = df[col_name2]\n",
    "            except:\n",
    "                try:\n",
    "                    df = df[col_name3]\n",
    "                except:\n",
    "                    df = df[col_name4]\n",
    "                 \n",
    "        df.columns = col_name\n",
    "\n",
    "        df.to_csv(f\"red data/{filename}\", encoding='utf-8')\n"
   ]
  },
  {
   "cell_type": "markdown",
   "id": "c1aa6f8c",
   "metadata": {},
   "source": [
    "Define a function to calculate distance between pickup point and dropoff point"
   ]
  },
  {
   "cell_type": "code",
   "execution_count": 47,
   "id": "16854817",
   "metadata": {
    "scrolled": true
   },
   "outputs": [],
   "source": [
    "def get_distance(row):\n",
    "     \"\"\"This function calculates distance between pickup point and dropoff point\"\"\"\n",
    "    R = 6370 #radius of the Earth\n",
    "    pickup_lon = row[\"pickup_longitude\"]\n",
    "    pickup_lat = row[\"pickup_latitude\"]\n",
    "    dropoff_lon = row[\"dropoff_longitude\"]\n",
    "    dropoff_lat = row[\"dropoff_latitude\"]\n",
    "    lat1 = math.radians(pickup_lat) \n",
    "    lon1 = math.radians(pickup_lon)\n",
    "    lat2 = math.radians(dropoff_lat)\n",
    "    lon2 = math.radians(dropoff_lon)\n",
    "\n",
    "    d_lon = lon2 - lon1\n",
    "    d_lat = lat2- lat1\n",
    "    result = math.sin(d_lat / 2)**2 + math.cos(lat1) * math.cos(lat2) * math.sin(d_lon / 2)**2\n",
    "    cir = 2 * math.atan2(math.sqrt(result), math.sqrt(1-result))\n",
    "    distance = R * cir\n",
    "    return distance"
   ]
  },
  {
   "cell_type": "markdown",
   "id": "43fa3125",
   "metadata": {},
   "source": [
    "Unit test for get_distance( ) function"
   ]
  },
  {
   "cell_type": "code",
   "execution_count": 39,
   "id": "490d02ee",
   "metadata": {
    "scrolled": true
   },
   "outputs": [],
   "source": [
    "d3 = pd.read_csv(\"yellow data/yellow_tripdata_2011-05.csv\")\n",
    "test_row = d3.head(1)\n",
    "assert get_distance(test_row) == 126.75830320515628"
   ]
  },
  {
   "cell_type": "markdown",
   "id": "c04e9b01",
   "metadata": {},
   "source": [
    "Load Uber data to determine a approprite sample rate in processing yellow taxi data"
   ]
  },
  {
   "cell_type": "code",
   "execution_count": 117,
   "id": "5b11d377",
   "metadata": {
    "scrolled": true
   },
   "outputs": [
    {
     "data": {
      "text/plain": [
       "200000"
      ]
     },
     "execution_count": 117,
     "metadata": {},
     "output_type": "execute_result"
    }
   ],
   "source": [
    "uber_df = pd.read_csv(\"./uber_rides_sample.csv\")\n",
    "len(uber_df) \n",
    "#We need to sample 200,000 rows in total, about 2500 rows for each month"
   ]
  },
  {
   "cell_type": "markdown",
   "id": "e65013cf",
   "metadata": {},
   "source": [
    "Clean and process Uber data"
   ]
  },
  {
   "cell_type": "code",
   "execution_count": 159,
   "id": "90e6c33b",
   "metadata": {
    "scrolled": true
   },
   "outputs": [],
   "source": [
    "uber_col = [\"pickup_datetime\", \"pickup_longitude\", \"pickup_latitude\", \"dropoff_longitude\", \"dropoff_latitude\", \"passenger_count\"]\n",
    "uber_df = uber_df[uber_col]\n",
    "\n",
    "#drop outliers\n",
    "uber_df = uber_df.loc[uber_df[\"passenger_count\"] <= 6]\n",
    "\n",
    "uber_df[\"pickup_datetime\"] = pd.to_datetime(uber_df['pickup_datetime'])\n",
    "uber_df[\"year\"] = uber_df[\"pickup_datetime\"].dt.year\n",
    "uber_df[\"month\"] = uber_df[\"pickup_datetime\"].dt.month\n",
    "uber_df[\"day\"] = uber_df[\"pickup_datetime\"].dt.day\n",
    "uber_df[\"hour\"] = uber_df[\"pickup_datetime\"].dt.hour\n",
    "uber_df[\"dayofweek\"] = uber_df[\"pickup_datetime\"].dt.dayofweek\n",
    "uber_df['distance'] = uber_df.apply(get_distance, axis=1)\n",
    "#accommodate columns for concat\n",
    "uber_df[\"tip_amount\"] = 0\n",
    "uber_df[\"total_amount\"] = 0\n",
    "\n",
    "uber_df.dropna()\n",
    "uber = uber_df"
   ]
  },
  {
   "cell_type": "markdown",
   "id": "342c7ac4",
   "metadata": {},
   "source": [
    "Due to the large size of original yellow taxi data, we reduce the size to a similar level as the Uber data, and save sampled data in the folder \"blue data\""
   ]
  },
  {
   "cell_type": "code",
   "execution_count": 49,
   "id": "9c1c4397",
   "metadata": {
    "scrolled": true
   },
   "outputs": [
    {
     "name": "stdout",
     "output_type": "stream",
     "text": [
      "red data/yellow_tripdata_2015-05.csv\n",
      "red data/yellow_tripdata_2010-09.csv\n",
      "red data/yellow_tripdata_2010-08.csv\n",
      "red data/yellow_tripdata_2009-01.csv\n",
      "red data/yellow_tripdata_2015-04.csv\n",
      "red data/yellow_tripdata_2015-06.csv\n",
      "red data/yellow_tripdata_2009-03.csv\n",
      "red data/yellow_tripdata_2009-02.csv\n",
      "red data/yellow_tripdata_2015-03.csv\n",
      "red data/yellow_tripdata_2009-12.csv\n",
      "red data/yellow_tripdata_2009-06.csv\n",
      "red data/yellow_tripdata_2009-07.csv\n",
      "red data/yellow_tripdata_2015-02.csv\n",
      "red data/yellow_tripdata_2012-09.csv\n",
      "red data/yellow_tripdata_2009-05.csv\n",
      "red data/yellow_tripdata_2009-11.csv\n",
      "red data/yellow_tripdata_2009-10.csv\n",
      "red data/yellow_tripdata_2009-04.csv\n",
      "red data/yellow_tripdata_2012-08.csv\n",
      "red data/yellow_tripdata_2015-01.csv\n",
      "red data/yellow_tripdata_2011-02.csv\n",
      "red data/yellow_tripdata_2013-07.csv\n",
      "red data/yellow_tripdata_2013-12.csv\n",
      "red data/yellow_tripdata_2013-06.csv\n",
      "red data/yellow_tripdata_2011-03.csv\n",
      "red data/yellow_tripdata_2011-01.csv\n",
      "red data/yellow_tripdata_2013-10.csv\n",
      "red data/yellow_tripdata_2013-04.csv\n",
      "red data/yellow_tripdata_2013-05.csv\n",
      "red data/yellow_tripdata_2013-11.csv\n",
      "red data/yellow_tripdata_2011-10.csv\n",
      "red data/yellow_tripdata_2011-04.csv\n",
      "red data/yellow_tripdata_2014-08.csv\n",
      "red data/yellow_tripdata_2013-01.csv\n",
      "red data/yellow_tripdata_2014-09.csv\n",
      "red data/yellow_tripdata_2011-05.csv\n",
      "red data/yellow_tripdata_2011-11.csv\n",
      "red data/yellow_tripdata_2011-07.csv\n",
      "red data/yellow_tripdata_2013-02.csv\n",
      "red data/yellow_tripdata_2013-03.csv\n",
      "red data/yellow_tripdata_2011-12.csv\n",
      "red data/yellow_tripdata_2011-06.csv\n",
      "red data/yellow_tripdata_2014-07.csv\n",
      "red data/yellow_tripdata_2014-06.csv\n",
      "red data/yellow_tripdata_2014-12.csv\n",
      "red data/yellow_tripdata_2011-08.csv\n",
      "red data/yellow_tripdata_2014-04.csv\n",
      "red data/yellow_tripdata_2014-10.csv\n",
      "red data/yellow_tripdata_2014-11.csv\n",
      "red data/yellow_tripdata_2014-05.csv\n",
      "red data/yellow_tripdata_2011-09.csv\n",
      "red data/yellow_tripdata_2013-08.csv\n",
      "red data/yellow_tripdata_2014-01.csv\n",
      "red data/yellow_tripdata_2013-09.csv\n",
      "red data/yellow_tripdata_2014-02.csv\n",
      "red data/yellow_tripdata_2014-03.csv\n",
      "red data/yellow_tripdata_2012-11.csv\n",
      "red data/yellow_tripdata_2012-05.csv\n",
      "red data/yellow_tripdata_2009-09.csv\n",
      "red data/yellow_tripdata_2010-01.csv\n",
      "red data/yellow_tripdata_2009-08.csv\n",
      "red data/yellow_tripdata_2012-04.csv\n",
      "red data/yellow_tripdata_2012-10.csv\n",
      "red data/yellow_tripdata_2012-06.csv\n",
      "red data/yellow_tripdata_2012-12.csv\n",
      "red data/yellow_tripdata_2012-07.csv\n",
      "red data/yellow_tripdata_2012-03.csv\n",
      "red data/yellow_tripdata_2010-06.csv\n",
      "red data/yellow_tripdata_2010-12.csv\n",
      "red data/yellow_tripdata_2010-07.csv\n",
      "red data/yellow_tripdata_2012-02.csv\n",
      "red data/yellow_tripdata_2010-11.csv\n",
      "red data/yellow_tripdata_2010-05.csv\n",
      "red data/yellow_tripdata_2010-04.csv\n",
      "red data/yellow_tripdata_2010-10.csv\n",
      "red data/yellow_tripdata_2012-01.csv\n"
     ]
    }
   ],
   "source": [
    "#sample yellow data, the output is saved in folder \"blue data\". Each yellow dataset has roughly 12500000 rows, and we sample 2500 out of 12500000 rows\n",
    "def sample_entries(indir, outdir, sample_rate = 2500/12500000):\n",
    "    \"\"\"This function samples data at a given rate\"\"\"\n",
    "    for filename in os.listdir(indir):\n",
    "        if filename == \".DS_Store\": #skip unnecessary hidden files\n",
    "            continue\n",
    "        else:\n",
    "            in_f = os.path.join(indir, filename)\n",
    "            if os.path.isfile(in_f):\n",
    "                print(in_f)\n",
    "                out_f = os.path.join(outdir, filename)\n",
    "                df = pd.read_csv(in_f, header=0,\n",
    "                                 skiprows=lambda i: i > 0 and\n",
    "                                 random.random() > sample_rate)\n",
    "                df.to_csv(out_f)\n",
    "\n",
    "sample_entries(r'red data/', r'blue data/')"
   ]
  },
  {
   "cell_type": "markdown",
   "id": "e2181161",
   "metadata": {},
   "source": [
    "Combine the sampled data and do data processing"
   ]
  },
  {
   "cell_type": "code",
   "execution_count": 52,
   "id": "3537cd98",
   "metadata": {
    "scrolled": true
   },
   "outputs": [],
   "source": [
    "#read and merge all csv in blue data\n",
    "df = pd.concat(map(pd.read_csv, glob.glob('blue data/*.csv'))) \n",
    "\n",
    "# Create date columns and drop the rows outside the given coordinate box\n",
    "df = df[(df[\"pickup_longitude\"] > -74.242330) \n",
    "   & (df[\"pickup_longitude\"] < -73.717047) \n",
    "   & (df[\"pickup_latitude\"] > 40.560445) \n",
    "   & (df[\"pickup_latitude\"] < 40.908524)]\n",
    "df[\"pickup_datetime\"] = pd.to_datetime(df['pickup_datetime'])\n",
    "df[\"dayofweek\"] = df[\"pickup_datetime\"].dt.dayofweek\n",
    "df[\"year\"] = df[\"pickup_datetime\"].dt.year\n",
    "df[\"month\"] = df[\"pickup_datetime\"].dt.month\n",
    "df[\"day\"] = df[\"pickup_datetime\"].dt.day\n",
    "df[\"hour\"] = df[\"pickup_datetime\"].dt.hour\n",
    "df['distance'] = df.apply(get_distance, axis=1)\n",
    "all_data = df"
   ]
  },
  {
   "cell_type": "markdown",
   "id": "38d1216d",
   "metadata": {},
   "source": [
    "# Part 2. Storing Data"
   ]
  },
  {
   "cell_type": "markdown",
   "id": "01616a77",
   "metadata": {},
   "source": [
    "Write schema"
   ]
  },
  {
   "cell_type": "code",
   "execution_count": 161,
   "id": "1667cb36",
   "metadata": {
    "scrolled": true
   },
   "outputs": [],
   "source": [
    "with open(\"schema.sql\", \"w+\") as f:\n",
    "        f.write(pd.io.sql.get_schema(all_data, 'ALL_DATA'))\n",
    "        f.write(';\\n')"
   ]
  },
  {
   "cell_type": "markdown",
   "id": "08b9705d",
   "metadata": {},
   "source": [
    "Process weather data and seperate into two folders, \"hourly\" and \"daily\""
   ]
  },
  {
   "cell_type": "code",
   "execution_count": 88,
   "id": "c970d576",
   "metadata": {
    "scrolled": true
   },
   "outputs": [],
   "source": [
    "#gather all weather data\n",
    "all_files = glob.glob(\"weather/*.csv\")\n",
    "#create necessary column names\n",
    "hourly_col = [\"DATE\", \"year\", \"month\", \"day\", \"hour\", \"HourlyWindSpeed\",\"HourlyPrecipitation\",\"DailySustainedWindSpeed\"]\n",
    "daily_col = [\"DATE\", \"year\", \"month\", \"day\", \"DailyAverageWindSpeed\", \"DailyPrecipitation\", \"DailySustainedWindSpeed\"]\n",
    "\n",
    "#seperate weather data into two categories, hourly and daily, then choose necessary columns and drop na data\n",
    "for filename in all_files:\n",
    "    df = pd.read_csv(filename, low_memory=False)\n",
    "    hourly_df = df[df['REPORT_TYPE']=='FM-15']\n",
    "    \n",
    "    hourly_df[\"DATE\"] = pd.to_datetime(hourly_df['DATE'])\n",
    "    hourly_df[\"year\"] = hourly_df[\"DATE\"].dt.year\n",
    "    hourly_df[\"month\"] = hourly_df[\"DATE\"].dt.month\n",
    "    hourly_df[\"day\"] = hourly_df[\"DATE\"].dt.day\n",
    "    hourly_df[\"hour\"] = hourly_df[\"DATE\"].dt.hour\n",
    "    hourly_df = hourly_df[hourly_col]\n",
    "    hourly_df.to_csv(f\"hourly/{filename}\", encoding='utf-8')\n",
    "    \n",
    "    daily_df = df[df['REPORT_TYPE'].str.contains(\"SOD\")]\n",
    "    \n",
    "    daily_df[\"DATE\"] = pd.to_datetime(daily_df['DATE'])\n",
    "    daily_df[\"year\"] = daily_df[\"DATE\"].dt.year\n",
    "    daily_df[\"month\"] = daily_df[\"DATE\"].dt.month\n",
    "    daily_df[\"day\"] = daily_df[\"DATE\"].dt.day\n",
    "    daily_df[\"hour\"] = daily_df[\"DATE\"].dt.hour\n",
    "    daily_df = daily_df[daily_col]\n",
    "    daily_df.to_csv(f\"daily/{filename}\", encoding='utf-8')\n"
   ]
  },
  {
   "cell_type": "markdown",
   "id": "ee1956b0",
   "metadata": {},
   "source": [
    "Data processing for hourly data"
   ]
  },
  {
   "cell_type": "code",
   "execution_count": 95,
   "id": "abcb273e",
   "metadata": {
    "scrolled": true
   },
   "outputs": [
    {
     "data": {
      "text/html": [
       "<div>\n",
       "<style scoped>\n",
       "    .dataframe tbody tr th:only-of-type {\n",
       "        vertical-align: middle;\n",
       "    }\n",
       "\n",
       "    .dataframe tbody tr th {\n",
       "        vertical-align: top;\n",
       "    }\n",
       "\n",
       "    .dataframe thead th {\n",
       "        text-align: right;\n",
       "    }\n",
       "</style>\n",
       "<table border=\"1\" class=\"dataframe\">\n",
       "  <thead>\n",
       "    <tr style=\"text-align: right;\">\n",
       "      <th></th>\n",
       "      <th>Unnamed: 0</th>\n",
       "      <th>DATE</th>\n",
       "      <th>year</th>\n",
       "      <th>month</th>\n",
       "      <th>day</th>\n",
       "      <th>hour</th>\n",
       "      <th>HourlyWindSpeed</th>\n",
       "      <th>HourlyPrecipitation</th>\n",
       "      <th>DailySustainedWindSpeed</th>\n",
       "    </tr>\n",
       "  </thead>\n",
       "  <tbody>\n",
       "    <tr>\n",
       "      <th>0</th>\n",
       "      <td>8</td>\n",
       "      <td>2012-01-01 06:00:00</td>\n",
       "      <td>2012</td>\n",
       "      <td>1</td>\n",
       "      <td>1</td>\n",
       "      <td>6</td>\n",
       "      <td>8.0</td>\n",
       "      <td>NaN</td>\n",
       "      <td>NaN</td>\n",
       "    </tr>\n",
       "    <tr>\n",
       "      <th>1</th>\n",
       "      <td>13</td>\n",
       "      <td>2012-01-01 08:00:00</td>\n",
       "      <td>2012</td>\n",
       "      <td>1</td>\n",
       "      <td>1</td>\n",
       "      <td>8</td>\n",
       "      <td>0.0</td>\n",
       "      <td>NaN</td>\n",
       "      <td>NaN</td>\n",
       "    </tr>\n",
       "    <tr>\n",
       "      <th>2</th>\n",
       "      <td>296</td>\n",
       "      <td>2012-01-12 08:00:00</td>\n",
       "      <td>2012</td>\n",
       "      <td>1</td>\n",
       "      <td>12</td>\n",
       "      <td>8</td>\n",
       "      <td>0.0</td>\n",
       "      <td>0.03</td>\n",
       "      <td>NaN</td>\n",
       "    </tr>\n",
       "    <tr>\n",
       "      <th>3</th>\n",
       "      <td>459</td>\n",
       "      <td>2012-01-17 15:00:00</td>\n",
       "      <td>2012</td>\n",
       "      <td>1</td>\n",
       "      <td>17</td>\n",
       "      <td>15</td>\n",
       "      <td>10.0</td>\n",
       "      <td>0.01</td>\n",
       "      <td>NaN</td>\n",
       "    </tr>\n",
       "    <tr>\n",
       "      <th>4</th>\n",
       "      <td>757</td>\n",
       "      <td>2012-01-27 01:00:00</td>\n",
       "      <td>2012</td>\n",
       "      <td>1</td>\n",
       "      <td>27</td>\n",
       "      <td>1</td>\n",
       "      <td>3.0</td>\n",
       "      <td>NaN</td>\n",
       "      <td>NaN</td>\n",
       "    </tr>\n",
       "    <tr>\n",
       "      <th>...</th>\n",
       "      <td>...</td>\n",
       "      <td>...</td>\n",
       "      <td>...</td>\n",
       "      <td>...</td>\n",
       "      <td>...</td>\n",
       "      <td>...</td>\n",
       "      <td>...</td>\n",
       "      <td>...</td>\n",
       "      <td>...</td>\n",
       "    </tr>\n",
       "    <tr>\n",
       "      <th>343</th>\n",
       "      <td>10432</td>\n",
       "      <td>2010-12-30 16:51:00</td>\n",
       "      <td>2010</td>\n",
       "      <td>12</td>\n",
       "      <td>30</td>\n",
       "      <td>16</td>\n",
       "      <td>7.0</td>\n",
       "      <td>NaN</td>\n",
       "      <td>NaN</td>\n",
       "    </tr>\n",
       "    <tr>\n",
       "      <th>344</th>\n",
       "      <td>10433</td>\n",
       "      <td>2010-12-30 17:51:00</td>\n",
       "      <td>2010</td>\n",
       "      <td>12</td>\n",
       "      <td>30</td>\n",
       "      <td>17</td>\n",
       "      <td>6.0</td>\n",
       "      <td>NaN</td>\n",
       "      <td>NaN</td>\n",
       "    </tr>\n",
       "    <tr>\n",
       "      <th>345</th>\n",
       "      <td>10434</td>\n",
       "      <td>2010-12-30 18:51:00</td>\n",
       "      <td>2010</td>\n",
       "      <td>12</td>\n",
       "      <td>30</td>\n",
       "      <td>18</td>\n",
       "      <td>7.0</td>\n",
       "      <td>NaN</td>\n",
       "      <td>NaN</td>\n",
       "    </tr>\n",
       "    <tr>\n",
       "      <th>346</th>\n",
       "      <td>10435</td>\n",
       "      <td>2010-12-30 19:51:00</td>\n",
       "      <td>2010</td>\n",
       "      <td>12</td>\n",
       "      <td>30</td>\n",
       "      <td>19</td>\n",
       "      <td>8.0</td>\n",
       "      <td>NaN</td>\n",
       "      <td>NaN</td>\n",
       "    </tr>\n",
       "    <tr>\n",
       "      <th>347</th>\n",
       "      <td>10436</td>\n",
       "      <td>2010-12-30 20:51:00</td>\n",
       "      <td>2010</td>\n",
       "      <td>12</td>\n",
       "      <td>30</td>\n",
       "      <td>20</td>\n",
       "      <td>6.0</td>\n",
       "      <td>NaN</td>\n",
       "      <td>NaN</td>\n",
       "    </tr>\n",
       "  </tbody>\n",
       "</table>\n",
       "<p>30370 rows × 9 columns</p>\n",
       "</div>"
      ],
      "text/plain": [
       "     Unnamed: 0                 DATE  year  month  day  hour  HourlyWindSpeed  \\\n",
       "0             8  2012-01-01 06:00:00  2012      1    1     6              8.0   \n",
       "1            13  2012-01-01 08:00:00  2012      1    1     8              0.0   \n",
       "2           296  2012-01-12 08:00:00  2012      1   12     8              0.0   \n",
       "3           459  2012-01-17 15:00:00  2012      1   17    15             10.0   \n",
       "4           757  2012-01-27 01:00:00  2012      1   27     1              3.0   \n",
       "..          ...                  ...   ...    ...  ...   ...              ...   \n",
       "343       10432  2010-12-30 16:51:00  2010     12   30    16              7.0   \n",
       "344       10433  2010-12-30 17:51:00  2010     12   30    17              6.0   \n",
       "345       10434  2010-12-30 18:51:00  2010     12   30    18              7.0   \n",
       "346       10435  2010-12-30 19:51:00  2010     12   30    19              8.0   \n",
       "347       10436  2010-12-30 20:51:00  2010     12   30    20              6.0   \n",
       "\n",
       "    HourlyPrecipitation  DailySustainedWindSpeed  \n",
       "0                   NaN                      NaN  \n",
       "1                   NaN                      NaN  \n",
       "2                  0.03                      NaN  \n",
       "3                  0.01                      NaN  \n",
       "4                   NaN                      NaN  \n",
       "..                  ...                      ...  \n",
       "343                 NaN                      NaN  \n",
       "344                 NaN                      NaN  \n",
       "345                 NaN                      NaN  \n",
       "346                 NaN                      NaN  \n",
       "347                 NaN                      NaN  \n",
       "\n",
       "[30370 rows x 9 columns]"
      ]
     },
     "execution_count": 95,
     "metadata": {},
     "output_type": "execute_result"
    }
   ],
   "source": [
    "hourly_files = glob.glob(\"hourly/weather/*.csv\")\n",
    "hourly = pd.DataFrame()\n",
    "\n",
    "for filename in hourly_files:\n",
    "    df = pd.read_csv(filename)\n",
    "    hourly = pd.concat([hourly, df])\n"
   ]
  },
  {
   "cell_type": "markdown",
   "id": "8028bdc4",
   "metadata": {},
   "source": [
    "Data processing for daily data"
   ]
  },
  {
   "cell_type": "code",
   "execution_count": 98,
   "id": "57a38eef",
   "metadata": {
    "scrolled": true
   },
   "outputs": [
    {
     "data": {
      "text/html": [
       "<div>\n",
       "<style scoped>\n",
       "    .dataframe tbody tr th:only-of-type {\n",
       "        vertical-align: middle;\n",
       "    }\n",
       "\n",
       "    .dataframe tbody tr th {\n",
       "        vertical-align: top;\n",
       "    }\n",
       "\n",
       "    .dataframe thead th {\n",
       "        text-align: right;\n",
       "    }\n",
       "</style>\n",
       "<table border=\"1\" class=\"dataframe\">\n",
       "  <thead>\n",
       "    <tr style=\"text-align: right;\">\n",
       "      <th></th>\n",
       "      <th>Unnamed: 0</th>\n",
       "      <th>DATE</th>\n",
       "      <th>year</th>\n",
       "      <th>month</th>\n",
       "      <th>day</th>\n",
       "      <th>DailyAverageWindSpeed</th>\n",
       "      <th>DailyPrecipitation</th>\n",
       "      <th>DailySustainedWindSpeed</th>\n",
       "    </tr>\n",
       "  </thead>\n",
       "  <tbody>\n",
       "    <tr>\n",
       "      <th>0</th>\n",
       "      <td>30</td>\n",
       "      <td>2012-01-01 23:59:00</td>\n",
       "      <td>2012</td>\n",
       "      <td>1</td>\n",
       "      <td>1</td>\n",
       "      <td>NaN</td>\n",
       "      <td>NaN</td>\n",
       "      <td>NaN</td>\n",
       "    </tr>\n",
       "    <tr>\n",
       "      <th>1</th>\n",
       "      <td>244</td>\n",
       "      <td>2012-01-10 23:59:00</td>\n",
       "      <td>2012</td>\n",
       "      <td>1</td>\n",
       "      <td>10</td>\n",
       "      <td>NaN</td>\n",
       "      <td>NaN</td>\n",
       "      <td>NaN</td>\n",
       "    </tr>\n",
       "    <tr>\n",
       "      <th>2</th>\n",
       "      <td>274</td>\n",
       "      <td>2012-01-11 23:59:00</td>\n",
       "      <td>2012</td>\n",
       "      <td>1</td>\n",
       "      <td>11</td>\n",
       "      <td>NaN</td>\n",
       "      <td>NaN</td>\n",
       "      <td>NaN</td>\n",
       "    </tr>\n",
       "    <tr>\n",
       "      <th>3</th>\n",
       "      <td>326</td>\n",
       "      <td>2012-01-12 23:59:00</td>\n",
       "      <td>2012</td>\n",
       "      <td>1</td>\n",
       "      <td>12</td>\n",
       "      <td>NaN</td>\n",
       "      <td>NaN</td>\n",
       "      <td>NaN</td>\n",
       "    </tr>\n",
       "    <tr>\n",
       "      <th>4</th>\n",
       "      <td>362</td>\n",
       "      <td>2012-01-13 23:59:00</td>\n",
       "      <td>2012</td>\n",
       "      <td>1</td>\n",
       "      <td>13</td>\n",
       "      <td>NaN</td>\n",
       "      <td>NaN</td>\n",
       "      <td>NaN</td>\n",
       "    </tr>\n",
       "    <tr>\n",
       "      <th>...</th>\n",
       "      <td>...</td>\n",
       "      <td>...</td>\n",
       "      <td>...</td>\n",
       "      <td>...</td>\n",
       "      <td>...</td>\n",
       "      <td>...</td>\n",
       "      <td>...</td>\n",
       "      <td>...</td>\n",
       "    </tr>\n",
       "    <tr>\n",
       "      <th>134</th>\n",
       "      <td>9997</td>\n",
       "      <td>2010-12-13 23:59:00</td>\n",
       "      <td>2010</td>\n",
       "      <td>12</td>\n",
       "      <td>13</td>\n",
       "      <td>NaN</td>\n",
       "      <td>NaN</td>\n",
       "      <td>NaN</td>\n",
       "    </tr>\n",
       "    <tr>\n",
       "      <th>135</th>\n",
       "      <td>10028</td>\n",
       "      <td>2010-12-14 23:59:00</td>\n",
       "      <td>2010</td>\n",
       "      <td>12</td>\n",
       "      <td>14</td>\n",
       "      <td>NaN</td>\n",
       "      <td>NaN</td>\n",
       "      <td>NaN</td>\n",
       "    </tr>\n",
       "    <tr>\n",
       "      <th>136</th>\n",
       "      <td>10329</td>\n",
       "      <td>2010-12-26 23:59:00</td>\n",
       "      <td>2010</td>\n",
       "      <td>12</td>\n",
       "      <td>26</td>\n",
       "      <td>NaN</td>\n",
       "      <td>NaN</td>\n",
       "      <td>NaN</td>\n",
       "    </tr>\n",
       "    <tr>\n",
       "      <th>137</th>\n",
       "      <td>10363</td>\n",
       "      <td>2010-12-27 23:59:00</td>\n",
       "      <td>2010</td>\n",
       "      <td>12</td>\n",
       "      <td>27</td>\n",
       "      <td>NaN</td>\n",
       "      <td>NaN</td>\n",
       "      <td>NaN</td>\n",
       "    </tr>\n",
       "    <tr>\n",
       "      <th>138</th>\n",
       "      <td>10440</td>\n",
       "      <td>2010-12-30 23:59:00</td>\n",
       "      <td>2010</td>\n",
       "      <td>12</td>\n",
       "      <td>30</td>\n",
       "      <td>NaN</td>\n",
       "      <td>NaN</td>\n",
       "      <td>NaN</td>\n",
       "    </tr>\n",
       "  </tbody>\n",
       "</table>\n",
       "<p>1826 rows × 8 columns</p>\n",
       "</div>"
      ],
      "text/plain": [
       "     Unnamed: 0                 DATE  year  month  day  DailyAverageWindSpeed  \\\n",
       "0            30  2012-01-01 23:59:00  2012      1    1                    NaN   \n",
       "1           244  2012-01-10 23:59:00  2012      1   10                    NaN   \n",
       "2           274  2012-01-11 23:59:00  2012      1   11                    NaN   \n",
       "3           326  2012-01-12 23:59:00  2012      1   12                    NaN   \n",
       "4           362  2012-01-13 23:59:00  2012      1   13                    NaN   \n",
       "..          ...                  ...   ...    ...  ...                    ...   \n",
       "134        9997  2010-12-13 23:59:00  2010     12   13                    NaN   \n",
       "135       10028  2010-12-14 23:59:00  2010     12   14                    NaN   \n",
       "136       10329  2010-12-26 23:59:00  2010     12   26                    NaN   \n",
       "137       10363  2010-12-27 23:59:00  2010     12   27                    NaN   \n",
       "138       10440  2010-12-30 23:59:00  2010     12   30                    NaN   \n",
       "\n",
       "    DailyPrecipitation  DailySustainedWindSpeed  \n",
       "0                  NaN                      NaN  \n",
       "1                  NaN                      NaN  \n",
       "2                  NaN                      NaN  \n",
       "3                  NaN                      NaN  \n",
       "4                  NaN                      NaN  \n",
       "..                 ...                      ...  \n",
       "134                NaN                      NaN  \n",
       "135                NaN                      NaN  \n",
       "136                NaN                      NaN  \n",
       "137                NaN                      NaN  \n",
       "138                NaN                      NaN  \n",
       "\n",
       "[1826 rows x 8 columns]"
      ]
     },
     "execution_count": 98,
     "metadata": {},
     "output_type": "execute_result"
    }
   ],
   "source": [
    "daily_files = glob.glob(\"daily/weather/*.csv\")\n",
    "daily = pd.DataFrame()\n",
    "\n",
    "for filename in daily_files:\n",
    "    df = pd.read_csv(filename)\n",
    "    daily = pd.concat([daily, df])\n",
    "daily"
   ]
  },
  {
   "cell_type": "code",
   "execution_count": 349,
   "id": "7646f4c8",
   "metadata": {
    "scrolled": true
   },
   "outputs": [],
   "source": [
    "with open(\"schema.sql\", \"a\") as f:\n",
    "        f.write(pd.io.sql.get_schema(hourly, 'HOURLY'))\n",
    "        f.write(';\\n\\n')\n",
    "\n",
    "        f.write(pd.io.sql.get_schema(daily, 'DAILY'))\n",
    "        f.write(';\\n\\n')"
   ]
  },
  {
   "cell_type": "code",
   "execution_count": 350,
   "id": "88d0ceef",
   "metadata": {
    "scrolled": true
   },
   "outputs": [],
   "source": [
    "with open(\"schema.sql\", \"a\") as f:\n",
    "        f.write(pd.io.sql.get_schema(uber, 'UBER'))\n",
    "        f.write(';\\n\\n')"
   ]
  },
  {
   "cell_type": "markdown",
   "id": "82d585e1",
   "metadata": {},
   "source": [
    "Sanity check:"
   ]
  },
  {
   "cell_type": "code",
   "execution_count": 348,
   "id": "f4f234a9",
   "metadata": {
    "scrolled": true
   },
   "outputs": [
    {
     "name": "stdout",
     "output_type": "stream",
     "text": [
      "Error: near line 1: table \"ALL_DATA\" already exists\r\n",
      "Error: near line 25: table \"HOURLY\" already exists\r\n",
      "Error: near line 37: table \"DAILY\" already exists\r\n",
      "Error: near line 48: table \"UBER\" already exists\r\n"
     ]
    }
   ],
   "source": [
    "!sqlite3 hello.db < schema.sql"
   ]
  },
  {
   "cell_type": "markdown",
   "id": "f60889d2",
   "metadata": {},
   "source": [
    "# Understanding Data"
   ]
  },
  {
   "cell_type": "markdown",
   "id": "cf41aef4",
   "metadata": {},
   "source": [
    "### 1. For 01-2009 through 06-2015, what hour of the day was the most popular to take a Yellow Taxi? The result should have 24 bins."
   ]
  },
  {
   "cell_type": "markdown",
   "id": "8c7dc2bc",
   "metadata": {},
   "source": [
    "The most popular hour is 20, with the max number of rides, 13308"
   ]
  },
  {
   "cell_type": "code",
   "execution_count": 353,
   "id": "1f93a671",
   "metadata": {
    "scrolled": true
   },
   "outputs": [
    {
     "name": "stdout",
     "output_type": "stream",
     "text": [
      "   hours  counts\n",
      "0     20   13308\n"
     ]
    }
   ],
   "source": [
    "query1 = \"\"\"\n",
    "SELECT (HOUR+1) AS hours, \n",
    "COUNT(*) AS counts \n",
    "FROM all_data \n",
    "GROUP BY hours \n",
    "ORDER BY counts DESC;\n",
    "\"\"\"\n",
    "query_1 = sqldf(query1)\n",
    "print(query_1[query_1.counts == query_1.counts.max()])"
   ]
  },
  {
   "cell_type": "code",
   "execution_count": 354,
   "id": "bb0a65d3",
   "metadata": {
    "scrolled": true
   },
   "outputs": [],
   "source": [
    "with open(\"yellowtaxi_most_popular_hour.sql\", \"w+\") as f:\n",
    "        f.write(query1)\n",
    "        f.write('\\n\\n')"
   ]
  },
  {
   "cell_type": "markdown",
   "id": "f2af5d9f",
   "metadata": {},
   "source": [
    "### 2. For the same time frame, what day of the week was the most popular to take an Uber? The result should have 7 bins."
   ]
  },
  {
   "cell_type": "markdown",
   "id": "81890fab",
   "metadata": {},
   "source": [
    "The most popular day is 2, which stands for Tuesday, with the max number of rides, 6910"
   ]
  },
  {
   "cell_type": "code",
   "execution_count": 355,
   "id": "3145eb1a",
   "metadata": {
    "scrolled": true
   },
   "outputs": [
    {
     "name": "stdout",
     "output_type": "stream",
     "text": [
      "   day  counts\n",
      "0    2    6910\n"
     ]
    }
   ],
   "source": [
    "query2 = \"\"\"\n",
    "SELECT (dayofweek+1) AS day, \n",
    "COUNT(*) AS counts \n",
    "FROM uber \n",
    "GROUP BY day \n",
    "ORDER BY counts DESC;\n",
    "\"\"\"\n",
    "query_2 = sqldf(query2)\n",
    "print(query_2[query_2.counts == query_2.counts.max()])"
   ]
  },
  {
   "cell_type": "code",
   "execution_count": 356,
   "id": "2480f975",
   "metadata": {
    "scrolled": true
   },
   "outputs": [],
   "source": [
    "with open(\"uber_most_popular_day.sql\", \"w+\") as f:\n",
    "        f.write(query2)\n",
    "        f.write('\\n\\n')"
   ]
  },
  {
   "cell_type": "markdown",
   "id": "c23fade7",
   "metadata": {},
   "source": [
    "### 3. What is the 95% percentile of distance traveled for all hired trips during July 2013?"
   ]
  },
  {
   "cell_type": "markdown",
   "id": "0c3129dc",
   "metadata": {},
   "source": [
    "The 95% percentile is 10.150922"
   ]
  },
  {
   "cell_type": "code",
   "execution_count": 296,
   "id": "ca92203d",
   "metadata": {},
   "outputs": [
    {
     "data": {
      "text/plain": [
       "210600"
      ]
     },
     "execution_count": 296,
     "metadata": {},
     "output_type": "execute_result"
    }
   ],
   "source": [
    "len(all_data)"
   ]
  },
  {
   "cell_type": "code",
   "execution_count": 357,
   "id": "3af545c2",
   "metadata": {
    "scrolled": true
   },
   "outputs": [
    {
     "data": {
      "text/html": [
       "<div>\n",
       "<style scoped>\n",
       "    .dataframe tbody tr th:only-of-type {\n",
       "        vertical-align: middle;\n",
       "    }\n",
       "\n",
       "    .dataframe tbody tr th {\n",
       "        vertical-align: top;\n",
       "    }\n",
       "\n",
       "    .dataframe thead th {\n",
       "        text-align: right;\n",
       "    }\n",
       "</style>\n",
       "<table border=\"1\" class=\"dataframe\">\n",
       "  <thead>\n",
       "    <tr style=\"text-align: right;\">\n",
       "      <th></th>\n",
       "      <th>Percentile_95</th>\n",
       "    </tr>\n",
       "  </thead>\n",
       "  <tbody>\n",
       "    <tr>\n",
       "      <th>0</th>\n",
       "      <td>10.150922</td>\n",
       "    </tr>\n",
       "  </tbody>\n",
       "</table>\n",
       "</div>"
      ],
      "text/plain": [
       "   Percentile_95\n",
       "0      10.150922"
      ]
     },
     "execution_count": 357,
     "metadata": {},
     "output_type": "execute_result"
    }
   ],
   "source": [
    "query3 = \"\"\"\n",
    "SELECT distance AS Percentile_95\n",
    "FROM all_data\n",
    "WHERE year = 2013 AND month = 7\n",
    "ORDER BY distance DESC\n",
    "LIMIT 1\n",
    "OFFSET (\n",
    "SELECT CAST(COUNT(distance)*0.05 AS INT)+1 \n",
    "FROM all_data  \n",
    "WHERE year = 2013 AND month = 7);\n",
    "\"\"\"\n",
    "query_3 = sqldf(query3)\n",
    "query_3"
   ]
  },
  {
   "cell_type": "code",
   "execution_count": 358,
   "id": "c6fdcb59",
   "metadata": {
    "scrolled": true
   },
   "outputs": [],
   "source": [
    "with open(\"95_percentile.sql\", \"w+\") as f:\n",
    "        f.write(query3)\n",
    "        f.write('\\n\\n')"
   ]
  },
  {
   "cell_type": "markdown",
   "id": "3d28011c",
   "metadata": {},
   "source": [
    "### 4. What were the top 10 days with the highest number of hired rides for 2009, and what was the average distance for each day?"
   ]
  },
  {
   "cell_type": "markdown",
   "id": "f54eb222",
   "metadata": {},
   "source": [
    "Please see table below for the top 10 days and corresponding average distance"
   ]
  },
  {
   "cell_type": "code",
   "execution_count": 359,
   "id": "6f2caaf5",
   "metadata": {
    "scrolled": true
   },
   "outputs": [
    {
     "data": {
      "text/html": [
       "<div>\n",
       "<style scoped>\n",
       "    .dataframe tbody tr th:only-of-type {\n",
       "        vertical-align: middle;\n",
       "    }\n",
       "\n",
       "    .dataframe tbody tr th {\n",
       "        vertical-align: top;\n",
       "    }\n",
       "\n",
       "    .dataframe thead th {\n",
       "        text-align: right;\n",
       "    }\n",
       "</style>\n",
       "<table border=\"1\" class=\"dataframe\">\n",
       "  <thead>\n",
       "    <tr style=\"text-align: right;\">\n",
       "      <th></th>\n",
       "      <th>year</th>\n",
       "      <th>month</th>\n",
       "      <th>day</th>\n",
       "      <th>num_rides</th>\n",
       "      <th>avg_dist</th>\n",
       "    </tr>\n",
       "  </thead>\n",
       "  <tbody>\n",
       "    <tr>\n",
       "      <th>0</th>\n",
       "      <td>2009</td>\n",
       "      <td>12</td>\n",
       "      <td>12</td>\n",
       "      <td>142</td>\n",
       "      <td>3.392828</td>\n",
       "    </tr>\n",
       "    <tr>\n",
       "      <th>1</th>\n",
       "      <td>2009</td>\n",
       "      <td>12</td>\n",
       "      <td>5</td>\n",
       "      <td>141</td>\n",
       "      <td>3.113581</td>\n",
       "    </tr>\n",
       "    <tr>\n",
       "      <th>2</th>\n",
       "      <td>2009</td>\n",
       "      <td>10</td>\n",
       "      <td>16</td>\n",
       "      <td>133</td>\n",
       "      <td>3.151749</td>\n",
       "    </tr>\n",
       "    <tr>\n",
       "      <th>3</th>\n",
       "      <td>2009</td>\n",
       "      <td>10</td>\n",
       "      <td>23</td>\n",
       "      <td>130</td>\n",
       "      <td>3.337318</td>\n",
       "    </tr>\n",
       "    <tr>\n",
       "      <th>4</th>\n",
       "      <td>2009</td>\n",
       "      <td>2</td>\n",
       "      <td>27</td>\n",
       "      <td>129</td>\n",
       "      <td>3.629831</td>\n",
       "    </tr>\n",
       "    <tr>\n",
       "      <th>5</th>\n",
       "      <td>2009</td>\n",
       "      <td>12</td>\n",
       "      <td>10</td>\n",
       "      <td>127</td>\n",
       "      <td>3.254347</td>\n",
       "    </tr>\n",
       "    <tr>\n",
       "      <th>6</th>\n",
       "      <td>2009</td>\n",
       "      <td>5</td>\n",
       "      <td>9</td>\n",
       "      <td>125</td>\n",
       "      <td>3.149769</td>\n",
       "    </tr>\n",
       "    <tr>\n",
       "      <th>7</th>\n",
       "      <td>2009</td>\n",
       "      <td>2</td>\n",
       "      <td>20</td>\n",
       "      <td>124</td>\n",
       "      <td>2.524415</td>\n",
       "    </tr>\n",
       "    <tr>\n",
       "      <th>8</th>\n",
       "      <td>2009</td>\n",
       "      <td>10</td>\n",
       "      <td>31</td>\n",
       "      <td>124</td>\n",
       "      <td>3.390405</td>\n",
       "    </tr>\n",
       "    <tr>\n",
       "      <th>9</th>\n",
       "      <td>2009</td>\n",
       "      <td>3</td>\n",
       "      <td>13</td>\n",
       "      <td>123</td>\n",
       "      <td>2.771689</td>\n",
       "    </tr>\n",
       "  </tbody>\n",
       "</table>\n",
       "</div>"
      ],
      "text/plain": [
       "   year  month  day  num_rides  avg_dist\n",
       "0  2009     12   12        142  3.392828\n",
       "1  2009     12    5        141  3.113581\n",
       "2  2009     10   16        133  3.151749\n",
       "3  2009     10   23        130  3.337318\n",
       "4  2009      2   27        129  3.629831\n",
       "5  2009     12   10        127  3.254347\n",
       "6  2009      5    9        125  3.149769\n",
       "7  2009      2   20        124  2.524415\n",
       "8  2009     10   31        124  3.390405\n",
       "9  2009      3   13        123  2.771689"
      ]
     },
     "execution_count": 359,
     "metadata": {},
     "output_type": "execute_result"
    }
   ],
   "source": [
    "query4 = \"\"\"\n",
    "SELECT year, \n",
    "month, \n",
    "day, \n",
    "COUNT(*) AS num_rides, \n",
    "AVG(distance) as avg_dist\n",
    "FROM all_data\n",
    "WHERE year = 2009\n",
    "GROUP BY month, day\n",
    "ORDER BY num_rides DESC\n",
    "LIMIT 10\n",
    "\"\"\"\n",
    "query_4 = sqldf(query4)\n",
    "query_4"
   ]
  },
  {
   "cell_type": "code",
   "execution_count": 360,
   "id": "fd77e62c",
   "metadata": {
    "scrolled": true
   },
   "outputs": [],
   "source": [
    "with open(\"top_10_days_2009.sql\", \"w+\") as f:\n",
    "        f.write(query4)\n",
    "        f.write('\\n\\n')"
   ]
  },
  {
   "cell_type": "markdown",
   "id": "b6332f21",
   "metadata": {},
   "source": [
    "### 5. Which 10 days in 2014 were the windiest on average, and how many hired trips were made on those days?"
   ]
  },
  {
   "cell_type": "markdown",
   "id": "1e5b3285",
   "metadata": {},
   "source": [
    "Please see table below for the top 10 days in 2014 which were windiest on average and their corresponding number of trips"
   ]
  },
  {
   "cell_type": "code",
   "execution_count": 361,
   "id": "e124a401",
   "metadata": {
    "scrolled": true
   },
   "outputs": [
    {
     "data": {
      "text/html": [
       "<div>\n",
       "<style scoped>\n",
       "    .dataframe tbody tr th:only-of-type {\n",
       "        vertical-align: middle;\n",
       "    }\n",
       "\n",
       "    .dataframe tbody tr th {\n",
       "        vertical-align: top;\n",
       "    }\n",
       "\n",
       "    .dataframe thead th {\n",
       "        text-align: right;\n",
       "    }\n",
       "</style>\n",
       "<table border=\"1\" class=\"dataframe\">\n",
       "  <thead>\n",
       "    <tr style=\"text-align: right;\">\n",
       "      <th></th>\n",
       "      <th>year</th>\n",
       "      <th>month</th>\n",
       "      <th>day</th>\n",
       "      <th>WindSpeed</th>\n",
       "      <th>counts</th>\n",
       "    </tr>\n",
       "  </thead>\n",
       "  <tbody>\n",
       "    <tr>\n",
       "      <th>0</th>\n",
       "      <td>2014</td>\n",
       "      <td>3</td>\n",
       "      <td>13</td>\n",
       "      <td>14.1</td>\n",
       "      <td>613</td>\n",
       "    </tr>\n",
       "    <tr>\n",
       "      <th>1</th>\n",
       "      <td>2014</td>\n",
       "      <td>1</td>\n",
       "      <td>7</td>\n",
       "      <td>13.1</td>\n",
       "      <td>572</td>\n",
       "    </tr>\n",
       "    <tr>\n",
       "      <th>2</th>\n",
       "      <td>2014</td>\n",
       "      <td>2</td>\n",
       "      <td>13</td>\n",
       "      <td>12.6</td>\n",
       "      <td>620</td>\n",
       "    </tr>\n",
       "    <tr>\n",
       "      <th>3</th>\n",
       "      <td>2014</td>\n",
       "      <td>1</td>\n",
       "      <td>2</td>\n",
       "      <td>12.2</td>\n",
       "      <td>409</td>\n",
       "    </tr>\n",
       "    <tr>\n",
       "      <th>4</th>\n",
       "      <td>2014</td>\n",
       "      <td>3</td>\n",
       "      <td>26</td>\n",
       "      <td>11.9</td>\n",
       "      <td>577</td>\n",
       "    </tr>\n",
       "    <tr>\n",
       "      <th>5</th>\n",
       "      <td>2014</td>\n",
       "      <td>12</td>\n",
       "      <td>7</td>\n",
       "      <td>11.8</td>\n",
       "      <td>593</td>\n",
       "    </tr>\n",
       "    <tr>\n",
       "      <th>6</th>\n",
       "      <td>2014</td>\n",
       "      <td>12</td>\n",
       "      <td>8</td>\n",
       "      <td>11.5</td>\n",
       "      <td>619</td>\n",
       "    </tr>\n",
       "    <tr>\n",
       "      <th>7</th>\n",
       "      <td>2014</td>\n",
       "      <td>3</td>\n",
       "      <td>29</td>\n",
       "      <td>10.8</td>\n",
       "      <td>571</td>\n",
       "    </tr>\n",
       "    <tr>\n",
       "      <th>8</th>\n",
       "      <td>2014</td>\n",
       "      <td>11</td>\n",
       "      <td>2</td>\n",
       "      <td>10.8</td>\n",
       "      <td>502</td>\n",
       "    </tr>\n",
       "    <tr>\n",
       "      <th>9</th>\n",
       "      <td>2014</td>\n",
       "      <td>1</td>\n",
       "      <td>3</td>\n",
       "      <td>10.4</td>\n",
       "      <td>566</td>\n",
       "    </tr>\n",
       "  </tbody>\n",
       "</table>\n",
       "</div>"
      ],
      "text/plain": [
       "   year  month  day  WindSpeed  counts\n",
       "0  2014      3   13       14.1     613\n",
       "1  2014      1    7       13.1     572\n",
       "2  2014      2   13       12.6     620\n",
       "3  2014      1    2       12.2     409\n",
       "4  2014      3   26       11.9     577\n",
       "5  2014     12    7       11.8     593\n",
       "6  2014     12    8       11.5     619\n",
       "7  2014      3   29       10.8     571\n",
       "8  2014     11    2       10.8     502\n",
       "9  2014      1    3       10.4     566"
      ]
     },
     "execution_count": 361,
     "metadata": {},
     "output_type": "execute_result"
    }
   ],
   "source": [
    "query5 = \"\"\"\n",
    "SELECT weather.year, \n",
    "    weather.month, \n",
    "    weather.day, \n",
    "    weather.DailyAverageWindSpeed AS WindSpeed, \n",
    "    COUNT(*) AS counts    \n",
    "FROM daily AS weather\n",
    "JOIN all_data AS al\n",
    "  ON weather.month = al.month AND weather.day = al.day\n",
    "WHERE weather.year = 2014\n",
    "GROUP BY weather.month, weather.day\n",
    "ORDER BY WindSpeed DESC\n",
    "LIMIT 10\n",
    "\"\"\"\n",
    "query_5 = sqldf(query5)\n",
    "query_5"
   ]
  },
  {
   "cell_type": "code",
   "execution_count": 362,
   "id": "648b8062",
   "metadata": {
    "scrolled": true
   },
   "outputs": [],
   "source": [
    "with open(\"top_10_windiest.sql\", \"w+\") as f:\n",
    "        f.write(query5)\n",
    "        f.write('\\n\\n')"
   ]
  },
  {
   "cell_type": "markdown",
   "id": "0d890899",
   "metadata": {},
   "source": [
    "### 6. During Hurricane Sandy in NYC (Oct 29-30, 2012), plus the week leading up and the week after, how many trips were taken each hour, and for each hour, how much precipitation did NYC receive and what was the sustained wind speed? There should be an entry for every single hour, even if no rides were taken, no precipitation was measured, or there was no wind."
   ]
  },
  {
   "cell_type": "markdown",
   "id": "741b528c",
   "metadata": {},
   "source": [
    "Please see table below for details"
   ]
  },
  {
   "cell_type": "code",
   "execution_count": 363,
   "id": "b5e1d0a0",
   "metadata": {
    "scrolled": true
   },
   "outputs": [
    {
     "data": {
      "text/html": [
       "<div>\n",
       "<style scoped>\n",
       "    .dataframe tbody tr th:only-of-type {\n",
       "        vertical-align: middle;\n",
       "    }\n",
       "\n",
       "    .dataframe tbody tr th {\n",
       "        vertical-align: top;\n",
       "    }\n",
       "\n",
       "    .dataframe thead th {\n",
       "        text-align: right;\n",
       "    }\n",
       "</style>\n",
       "<table border=\"1\" class=\"dataframe\">\n",
       "  <thead>\n",
       "    <tr style=\"text-align: right;\">\n",
       "      <th></th>\n",
       "      <th>year</th>\n",
       "      <th>month</th>\n",
       "      <th>day</th>\n",
       "      <th>hour</th>\n",
       "      <th>HourlyWindSpeed</th>\n",
       "      <th>num_rides</th>\n",
       "      <th>avg_precipitation</th>\n",
       "      <th>avg_sustained_wind_speed</th>\n",
       "    </tr>\n",
       "  </thead>\n",
       "  <tbody>\n",
       "    <tr>\n",
       "      <th>0</th>\n",
       "      <td>2012</td>\n",
       "      <td>10</td>\n",
       "      <td>22</td>\n",
       "      <td>0</td>\n",
       "      <td>7.0</td>\n",
       "      <td>1</td>\n",
       "      <td>0.0</td>\n",
       "      <td>None</td>\n",
       "    </tr>\n",
       "    <tr>\n",
       "      <th>1</th>\n",
       "      <td>2012</td>\n",
       "      <td>10</td>\n",
       "      <td>22</td>\n",
       "      <td>2</td>\n",
       "      <td>7.0</td>\n",
       "      <td>1</td>\n",
       "      <td>0.0</td>\n",
       "      <td>None</td>\n",
       "    </tr>\n",
       "    <tr>\n",
       "      <th>2</th>\n",
       "      <td>2012</td>\n",
       "      <td>10</td>\n",
       "      <td>22</td>\n",
       "      <td>3</td>\n",
       "      <td>0.0</td>\n",
       "      <td>1</td>\n",
       "      <td>0.0</td>\n",
       "      <td>None</td>\n",
       "    </tr>\n",
       "    <tr>\n",
       "      <th>3</th>\n",
       "      <td>2012</td>\n",
       "      <td>10</td>\n",
       "      <td>22</td>\n",
       "      <td>5</td>\n",
       "      <td>0.0</td>\n",
       "      <td>1</td>\n",
       "      <td>0.0</td>\n",
       "      <td>None</td>\n",
       "    </tr>\n",
       "    <tr>\n",
       "      <th>4</th>\n",
       "      <td>2012</td>\n",
       "      <td>10</td>\n",
       "      <td>22</td>\n",
       "      <td>6</td>\n",
       "      <td>5.0</td>\n",
       "      <td>1</td>\n",
       "      <td>0.0</td>\n",
       "      <td>None</td>\n",
       "    </tr>\n",
       "    <tr>\n",
       "      <th>...</th>\n",
       "      <td>...</td>\n",
       "      <td>...</td>\n",
       "      <td>...</td>\n",
       "      <td>...</td>\n",
       "      <td>...</td>\n",
       "      <td>...</td>\n",
       "      <td>...</td>\n",
       "      <td>...</td>\n",
       "    </tr>\n",
       "    <tr>\n",
       "      <th>315</th>\n",
       "      <td>2012</td>\n",
       "      <td>11</td>\n",
       "      <td>6</td>\n",
       "      <td>19</td>\n",
       "      <td>3.0</td>\n",
       "      <td>1</td>\n",
       "      <td>0.0</td>\n",
       "      <td>None</td>\n",
       "    </tr>\n",
       "    <tr>\n",
       "      <th>316</th>\n",
       "      <td>2012</td>\n",
       "      <td>11</td>\n",
       "      <td>6</td>\n",
       "      <td>20</td>\n",
       "      <td>7.0</td>\n",
       "      <td>6</td>\n",
       "      <td>0.0</td>\n",
       "      <td>None</td>\n",
       "    </tr>\n",
       "    <tr>\n",
       "      <th>317</th>\n",
       "      <td>2012</td>\n",
       "      <td>11</td>\n",
       "      <td>6</td>\n",
       "      <td>21</td>\n",
       "      <td>7.0</td>\n",
       "      <td>5</td>\n",
       "      <td>0.0</td>\n",
       "      <td>None</td>\n",
       "    </tr>\n",
       "    <tr>\n",
       "      <th>318</th>\n",
       "      <td>2012</td>\n",
       "      <td>11</td>\n",
       "      <td>6</td>\n",
       "      <td>22</td>\n",
       "      <td>7.0</td>\n",
       "      <td>2</td>\n",
       "      <td>0.0</td>\n",
       "      <td>None</td>\n",
       "    </tr>\n",
       "    <tr>\n",
       "      <th>319</th>\n",
       "      <td>2012</td>\n",
       "      <td>11</td>\n",
       "      <td>6</td>\n",
       "      <td>23</td>\n",
       "      <td>3.0</td>\n",
       "      <td>2</td>\n",
       "      <td>0.0</td>\n",
       "      <td>None</td>\n",
       "    </tr>\n",
       "  </tbody>\n",
       "</table>\n",
       "<p>320 rows × 8 columns</p>\n",
       "</div>"
      ],
      "text/plain": [
       "     year  month  day  hour  HourlyWindSpeed  num_rides  avg_precipitation  \\\n",
       "0    2012     10   22     0              7.0          1                0.0   \n",
       "1    2012     10   22     2              7.0          1                0.0   \n",
       "2    2012     10   22     3              0.0          1                0.0   \n",
       "3    2012     10   22     5              0.0          1                0.0   \n",
       "4    2012     10   22     6              5.0          1                0.0   \n",
       "..    ...    ...  ...   ...              ...        ...                ...   \n",
       "315  2012     11    6    19              3.0          1                0.0   \n",
       "316  2012     11    6    20              7.0          6                0.0   \n",
       "317  2012     11    6    21              7.0          5                0.0   \n",
       "318  2012     11    6    22              7.0          2                0.0   \n",
       "319  2012     11    6    23              3.0          2                0.0   \n",
       "\n",
       "    avg_sustained_wind_speed  \n",
       "0                       None  \n",
       "1                       None  \n",
       "2                       None  \n",
       "3                       None  \n",
       "4                       None  \n",
       "..                       ...  \n",
       "315                     None  \n",
       "316                     None  \n",
       "317                     None  \n",
       "318                     None  \n",
       "319                     None  \n",
       "\n",
       "[320 rows x 8 columns]"
      ]
     },
     "execution_count": 363,
     "metadata": {},
     "output_type": "execute_result"
    }
   ],
   "source": [
    "query6 = \"\"\"\n",
    "SELECT weather.year, \n",
    "weather.month, \n",
    "weather.day, \n",
    "weather.hour, \n",
    "HourlyWindSpeed, \n",
    "COUNT(*) AS num_rides,\n",
    "AVG(HourlyPrecipitation) AS avg_precipitation,\n",
    "AVG(DailySustainedWindSpeed) AS avg_sustained_wind_speed\n",
    "FROM hourly AS weather\n",
    "\n",
    "JOIN all_data AS al\n",
    "ON weather.year = al.year \n",
    "    AND weather.month = al.month \n",
    "    AND weather.day = al.day \n",
    "    AND weather.hour = al.hour\n",
    "WHERE \n",
    "    weather.year = 2012 \n",
    "    AND ((weather.month = 10 AND weather.day >= 22) \n",
    "    OR (weather.month = 11 AND weather.day <= 6))\n",
    "GROUP BY weather.month, weather.day, weather.hour\n",
    "\"\"\"\n",
    "query_6 = sqldf(query6)\n",
    "query_6"
   ]
  },
  {
   "cell_type": "code",
   "execution_count": 364,
   "id": "0a85f4e9",
   "metadata": {
    "scrolled": true
   },
   "outputs": [],
   "source": [
    "with open(\"hurricane.sql\", \"w+\") as f:\n",
    "        f.write(query6)\n",
    "        f.write('\\n\\n')"
   ]
  },
  {
   "cell_type": "markdown",
   "id": "5fe861f0",
   "metadata": {},
   "source": [
    "# Part 4 Visualizing Data"
   ]
  },
  {
   "cell_type": "markdown",
   "id": "512a83e6",
   "metadata": {},
   "source": [
    "### 1. Create an appropriate visualization for the first query/question in part 3."
   ]
  },
  {
   "cell_type": "code",
   "execution_count": 136,
   "id": "e110d4ce",
   "metadata": {
    "scrolled": true
   },
   "outputs": [
    {
     "data": {
      "text/plain": [
       "[<matplotlib.lines.Line2D at 0x7f9fdde8e430>]"
      ]
     },
     "execution_count": 136,
     "metadata": {},
     "output_type": "execute_result"
    },
    {
     "data": {
      "image/png": "[encoded data removed]",
      "text/plain": [
       "<Figure size 432x288 with 1 Axes>"
      ]
     },
     "metadata": {
      "needs_background": "light"
     },
     "output_type": "display_data"
    }
   ],
   "source": [
    "data = query_1.sort_values(\"hours\")\n",
    "plt.title(\"number of rides in hour of the day\")\n",
    "plt.xlabel(\"hours\")\n",
    "plt.ylabel(\"Number of Rides\")\n",
    "plt.plot(data[\"hours\"], data[\"counts\"])"
   ]
  },
  {
   "cell_type": "markdown",
   "id": "2b911efc",
   "metadata": {},
   "source": [
    "### 2. Create a visualization that shows the average distance traveled per month (regardless of year - so group by each month) for both taxis and Ubers combined. Include the 90% confidence interval around the mean in the visualization.\n"
   ]
  },
  {
   "cell_type": "code",
   "execution_count": 168,
   "id": "716e5fc0",
   "metadata": {},
   "outputs": [],
   "source": [
    "# extract uber table\n",
    "uber_table = \"\"\"\n",
    "SELECT *\n",
    "FROM uber\n",
    "\"\"\"\n",
    "uber_rides = sqldf(uber_table)\n",
    "\n",
    "# extract taxi table\n",
    "taxi_table = \"\"\"\n",
    "SELECT *\n",
    "FROM all_data\n",
    "\"\"\"\n",
    "taxi_rides = sqldf(taxi_table)\n",
    "\n",
    "# combine uber table and taxi table\n",
    "all_rides = pd.concat([uber_rides, taxi_rides], axis=0)"
   ]
  },
  {
   "cell_type": "code",
   "execution_count": 365,
   "id": "6cbaf95c",
   "metadata": {
    "scrolled": true
   },
   "outputs": [
    {
     "data": {
      "text/html": [
       "<div>\n",
       "<style scoped>\n",
       "    .dataframe tbody tr th:only-of-type {\n",
       "        vertical-align: middle;\n",
       "    }\n",
       "\n",
       "    .dataframe tbody tr th {\n",
       "        vertical-align: top;\n",
       "    }\n",
       "\n",
       "    .dataframe thead th {\n",
       "        text-align: right;\n",
       "    }\n",
       "</style>\n",
       "<table border=\"1\" class=\"dataframe\">\n",
       "  <thead>\n",
       "    <tr style=\"text-align: right;\">\n",
       "      <th></th>\n",
       "      <th>CI_left</th>\n",
       "      <th>CI_right</th>\n",
       "    </tr>\n",
       "  </thead>\n",
       "  <tbody>\n",
       "    <tr>\n",
       "      <th>0</th>\n",
       "      <td>12.187911</td>\n",
       "      <td>17.557578</td>\n",
       "    </tr>\n",
       "    <tr>\n",
       "      <th>1</th>\n",
       "      <td>15.770665</td>\n",
       "      <td>22.361589</td>\n",
       "    </tr>\n",
       "    <tr>\n",
       "      <th>2</th>\n",
       "      <td>12.441879</td>\n",
       "      <td>17.820972</td>\n",
       "    </tr>\n",
       "    <tr>\n",
       "      <th>3</th>\n",
       "      <td>12.952882</td>\n",
       "      <td>18.314034</td>\n",
       "    </tr>\n",
       "    <tr>\n",
       "      <th>4</th>\n",
       "      <td>11.213283</td>\n",
       "      <td>15.997749</td>\n",
       "    </tr>\n",
       "    <tr>\n",
       "      <th>5</th>\n",
       "      <td>15.615295</td>\n",
       "      <td>21.667776</td>\n",
       "    </tr>\n",
       "    <tr>\n",
       "      <th>6</th>\n",
       "      <td>11.775655</td>\n",
       "      <td>17.481551</td>\n",
       "    </tr>\n",
       "    <tr>\n",
       "      <th>7</th>\n",
       "      <td>13.949892</td>\n",
       "      <td>20.819151</td>\n",
       "    </tr>\n",
       "    <tr>\n",
       "      <th>8</th>\n",
       "      <td>12.478653</td>\n",
       "      <td>18.299489</td>\n",
       "    </tr>\n",
       "    <tr>\n",
       "      <th>9</th>\n",
       "      <td>13.924746</td>\n",
       "      <td>19.902710</td>\n",
       "    </tr>\n",
       "    <tr>\n",
       "      <th>10</th>\n",
       "      <td>13.739576</td>\n",
       "      <td>20.066561</td>\n",
       "    </tr>\n",
       "    <tr>\n",
       "      <th>11</th>\n",
       "      <td>11.369513</td>\n",
       "      <td>16.874280</td>\n",
       "    </tr>\n",
       "  </tbody>\n",
       "</table>\n",
       "</div>"
      ],
      "text/plain": [
       "      CI_left   CI_right\n",
       "0   12.187911  17.557578\n",
       "1   15.770665  22.361589\n",
       "2   12.441879  17.820972\n",
       "3   12.952882  18.314034\n",
       "4   11.213283  15.997749\n",
       "5   15.615295  21.667776\n",
       "6   11.775655  17.481551\n",
       "7   13.949892  20.819151\n",
       "8   12.478653  18.299489\n",
       "9   13.924746  19.902710\n",
       "10  13.739576  20.066561\n",
       "11  11.369513  16.874280"
      ]
     },
     "execution_count": 365,
     "metadata": {},
     "output_type": "execute_result"
    }
   ],
   "source": [
    "query = \"\"\"\n",
    "SELECT month, \n",
    "    AVG(distance) AS avg_dist, \n",
    "    SQRT(AVG(distance*distance) - AVG(distance)*AVG(distance)) AS std_dev,\n",
    "    COUNT(*) as counts\n",
    "FROM all_rides\n",
    "GROUP BY month\n",
    "\"\"\"\n",
    "\n",
    "data = sqldf(query)\n",
    "dev = 1.645 * data[\"std_dev\"]/np.sqrt(data[\"counts\"])\n",
    "CI_left = data[\"avg_dist\"] - dev\n",
    "CI_right = data[\"avg_dist\"] + dev\n",
    "\n",
    "CI = pd.concat([CI_left, CI_right], axis=1)\n",
    "CI.columns = [\"CI_left\", \"CI_right\"]\n",
    "CI"
   ]
  },
  {
   "cell_type": "code",
   "execution_count": 366,
   "id": "0b1c8626",
   "metadata": {},
   "outputs": [],
   "source": [
    "with open(\"Confidence_Interval.sql\", \"w+\") as f:\n",
    "        f.write(query)\n",
    "        f.write('\\n\\n')"
   ]
  },
  {
   "cell_type": "code",
   "execution_count": 173,
   "id": "941bd60e",
   "metadata": {
    "scrolled": true
   },
   "outputs": [
    {
     "data": {
      "text/plain": [
       "Text(0, 0.5, 'Average Distance')"
      ]
     },
     "execution_count": 173,
     "metadata": {},
     "output_type": "execute_result"
    },
    {
     "data": {
      "image/png": "[encoded data removed]",
      "text/plain": [
       "<Figure size 432x288 with 1 Axes>"
      ]
     },
     "metadata": {
      "needs_background": "light"
     },
     "output_type": "display_data"
    }
   ],
   "source": [
    "x = data[\"month\"]\n",
    "y = data[\"avg_dist\"]\n",
    "plt.plot(x, y)\n",
    "plt.fill_between(x, (y-dev), (y+dev))\n",
    "plt.title(\"Average Distance Traveled per Month\")\n",
    "plt.xlabel(\"Month\")\n",
    "plt.ylabel(\"Average Distance\")"
   ]
  },
  {
   "cell_type": "markdown",
   "id": "0ece7ab1",
   "metadata": {},
   "source": [
    "### 3. Define three lat/long coordinate boxes around the three major New York airports: LGA, JFK, and EWR (you can use bboxfinder to help). Create a visualization that compares what day of the week was most popular for drop offs for each airport."
   ]
  },
  {
   "cell_type": "markdown",
   "id": "f434e466",
   "metadata": {},
   "source": [
    "From the bar plot, Friday is the most popular day"
   ]
  },
  {
   "cell_type": "code",
   "execution_count": 305,
   "id": "85042ca2",
   "metadata": {
    "scrolled": true
   },
   "outputs": [],
   "source": [
    "LGA = [-73.882378, 40.762829, -73.856774, 40.779520]\n",
    "JFK = [-73.794031, 40.638743, -73.774501, 40.650001]\n",
    "EWR = [-74.196493, 40.678116, -74.154394, 40.705115]"
   ]
  },
  {
   "cell_type": "code",
   "execution_count": 306,
   "id": "3c972094",
   "metadata": {
    "scrolled": true
   },
   "outputs": [],
   "source": [
    "def box(df, bbox):\n",
    "    \"\"\" This is a box coordinate function\"\"\"\n",
    "    df = df[(df[\"dropoff_longitude\"] > bbox[0]) & (df[\"dropoff_longitude\"] < bbox[2]) # longitude and latitude constraints\n",
    "       & (df[\"dropoff_latitude\"] > bbox[1]) & (df[\"dropoff_latitude\"] < bbox[3])]\n",
    "    return df"
   ]
  },
  {
   "cell_type": "markdown",
   "id": "86a34296",
   "metadata": {},
   "source": [
    "Find number of trips of three airports"
   ]
  },
  {
   "cell_type": "code",
   "execution_count": 338,
   "id": "ccf41ffa",
   "metadata": {
    "scrolled": true
   },
   "outputs": [],
   "source": [
    "#JFK\n",
    "jfk_counts = box(all_data, JFK)\n",
    "query = \"\"\"\n",
    "SELECT dayofweek +1 AS day, COUNT(*) AS jfk_counts\n",
    "FROM jfk_counts\n",
    "GROUP BY dayofweek +1\n",
    "\"\"\"\n",
    "jfk_counts = sqldf(query)\n",
    "\n",
    "#LGA\n",
    "lga_counts = box(all_data, LGA)\n",
    "query = \"\"\"\n",
    "SELECT dayofweek +1 AS day, COUNT(*) AS lga_counts\n",
    "FROM lga_counts\n",
    "GROUP BY dayofweek +1\n",
    "\"\"\"\n",
    "lga_counts = sqldf(query)\n",
    "\n",
    "#EWR\n",
    "ewr_counts = box(all_data, EWR)\n",
    "query = \"\"\"\n",
    "SELECT dayofweek +1 AS day, COUNT(*) AS ewr_counts\n",
    "FROM ewr_counts\n",
    "GROUP BY dayofweek +1\n",
    "\"\"\"\n",
    "ewr_counts = sqldf(query)"
   ]
  },
  {
   "cell_type": "code",
   "execution_count": 344,
   "id": "a74e98eb",
   "metadata": {},
   "outputs": [
    {
     "data": {
      "text/plain": [
       "<AxesSubplot:title={'center':'Frequency of dropoff in Airports'}, xlabel='day', ylabel='Number of Rides'>"
      ]
     },
     "execution_count": 344,
     "metadata": {},
     "output_type": "execute_result"
    },
    {
     "data": {
      "image/png": "[encoded data removed]",
      "text/plain": [
       "<Figure size 432x288 with 1 Axes>"
      ]
     },
     "metadata": {
      "needs_background": "light"
     },
     "output_type": "display_data"
    }
   ],
   "source": [
    "result = pd.merge(jfk_counts, lga_counts, on ='day')\n",
    "result = pd.merge(result, ewr_counts, on=\"day\")\n",
    "result.plot(x=\"day\", y=[\"jfk_counts\", \"lga_counts\", \"ewr_counts\"], kind = \"bar\", title = \"Frequency of dropoff in Airports\", xlabel = \"day\", ylabel = \"Number of Rides\")\n",
    "\n"
   ]
  },
  {
   "cell_type": "markdown",
   "id": "473ca53c",
   "metadata": {},
   "source": [
    "### 4. Create a heatmap of all hired trips over a map of the area. Consider using KeplerGL or another library that helps generate geospatial visualizations."
   ]
  },
  {
   "cell_type": "code",
   "execution_count": 179,
   "id": "eeb497c3",
   "metadata": {
    "scrolled": true
   },
   "outputs": [
    {
     "name": "stdout",
     "output_type": "stream",
     "text": [
      "User Guide: https://docs.kepler.gl/docs/keplergl-jupyter\n"
     ]
    },
    {
     "data": {
      "application/vnd.jupyter.widget-view+json": {
       "model_id": "8edee462c75f4f64876a370c76928bdb",
       "version_major": 2,
       "version_minor": 0
      },
      "text/plain": [
       "KeplerGl(data={'Heatmap of New York Trips': {'index': [0, 1, 2, 3, 4, 5, 6, 7, 8, 9, 10, 11, 12, 13, 14, 15, 1…"
      ]
     },
     "metadata": {},
     "output_type": "display_data"
    }
   ],
   "source": [
    "map_dat = all_data\n",
    "kep = KeplerGl(height=300)\n",
    "kep.add_data(data=map_dat,name='Heatmap of New York Trips')\n",
    "kep"
   ]
  },
  {
   "cell_type": "markdown",
   "id": "2c3b2feb",
   "metadata": {},
   "source": [
    "### 5. Create a scatter plot that compares tip amount versus distance for Yellow Taxi rides. You may remove any outliers how you see fit."
   ]
  },
  {
   "cell_type": "code",
   "execution_count": 281,
   "id": "f6571a67",
   "metadata": {
    "scrolled": false
   },
   "outputs": [
    {
     "data": {
      "text/plain": [
       "Text(0, 0.5, 'Tip Amount')"
      ]
     },
     "execution_count": 281,
     "metadata": {},
     "output_type": "execute_result"
    },
    {
     "data": {
      "image/png": "[encoded data removed]",
      "text/plain": [
       "<Figure size 432x288 with 1 Axes>"
      ]
     },
     "metadata": {
      "needs_background": "light"
     },
     "output_type": "display_data"
    }
   ],
   "source": [
    "plt.scatter(taxi_rides[\"distance\"], taxi_rides[\"tip_amount\"])\n",
    "plt.title(\"Tip Amount vs. Distance\")\n",
    "plt.xlabel(\"Distance\")\n",
    "plt.ylabel(\"Tip Amount\")\n",
    "#from the scatter plot, distance larger than 200 and tip amount larger than 80 are considered as outliers\n",
    "\n"
   ]
  },
  {
   "cell_type": "code",
   "execution_count": 187,
   "id": "88f8ba3a",
   "metadata": {
    "scrolled": true
   },
   "outputs": [
    {
     "data": {
      "text/plain": [
       "Text(0, 0.5, 'Tip Amount')"
      ]
     },
     "execution_count": 187,
     "metadata": {},
     "output_type": "execute_result"
    },
    {
     "data": {
      "image/png": "[encoded data removed]",
      "text/plain": [
       "<Figure size 432x288 with 1 Axes>"
      ]
     },
     "metadata": {
      "needs_background": "light"
     },
     "output_type": "display_data"
    }
   ],
   "source": [
    "data = taxi_rides[(taxi_rides[\"distance\"] < 200) & (taxi_rides[\"tip_amount\"] < 80)]\n",
    "plt.scatter(data[\"distance\"], data[\"tip_amount\"])\n",
    "plt.title(\"Tip Amount vs. Distance\")\n",
    "plt.xlabel(\"Distance\")\n",
    "plt.ylabel(\"Tip Amount\")"
   ]
  },
  {
   "cell_type": "markdown",
   "id": "11c48289",
   "metadata": {},
   "source": [
    "### 6. Create another scatter plot that compares tip amount versus precipitation amount for Yellow Taxi rides. You may remove any outliers how you see fit"
   ]
  },
  {
   "cell_type": "code",
   "execution_count": 367,
   "id": "62a52000",
   "metadata": {
    "scrolled": true
   },
   "outputs": [
    {
     "data": {
      "text/html": [
       "<div>\n",
       "<style scoped>\n",
       "    .dataframe tbody tr th:only-of-type {\n",
       "        vertical-align: middle;\n",
       "    }\n",
       "\n",
       "    .dataframe tbody tr th {\n",
       "        vertical-align: top;\n",
       "    }\n",
       "\n",
       "    .dataframe thead th {\n",
       "        text-align: right;\n",
       "    }\n",
       "</style>\n",
       "<table border=\"1\" class=\"dataframe\">\n",
       "  <thead>\n",
       "    <tr style=\"text-align: right;\">\n",
       "      <th></th>\n",
       "      <th>year</th>\n",
       "      <th>month</th>\n",
       "      <th>day</th>\n",
       "      <th>hour</th>\n",
       "      <th>HourlyPrecipitation</th>\n",
       "      <th>tip_amount</th>\n",
       "    </tr>\n",
       "  </thead>\n",
       "  <tbody>\n",
       "    <tr>\n",
       "      <th>1</th>\n",
       "      <td>2012</td>\n",
       "      <td>1</td>\n",
       "      <td>12</td>\n",
       "      <td>8</td>\n",
       "      <td>0.03</td>\n",
       "      <td>0.00</td>\n",
       "    </tr>\n",
       "    <tr>\n",
       "      <th>2</th>\n",
       "      <td>2012</td>\n",
       "      <td>1</td>\n",
       "      <td>12</td>\n",
       "      <td>8</td>\n",
       "      <td>0.03</td>\n",
       "      <td>0.00</td>\n",
       "    </tr>\n",
       "    <tr>\n",
       "      <th>3</th>\n",
       "      <td>2012</td>\n",
       "      <td>1</td>\n",
       "      <td>12</td>\n",
       "      <td>8</td>\n",
       "      <td>0.03</td>\n",
       "      <td>0.00</td>\n",
       "    </tr>\n",
       "    <tr>\n",
       "      <th>4</th>\n",
       "      <td>2012</td>\n",
       "      <td>1</td>\n",
       "      <td>12</td>\n",
       "      <td>8</td>\n",
       "      <td>0.03</td>\n",
       "      <td>0.00</td>\n",
       "    </tr>\n",
       "    <tr>\n",
       "      <th>5</th>\n",
       "      <td>2012</td>\n",
       "      <td>1</td>\n",
       "      <td>12</td>\n",
       "      <td>8</td>\n",
       "      <td>0.03</td>\n",
       "      <td>0.00</td>\n",
       "    </tr>\n",
       "    <tr>\n",
       "      <th>...</th>\n",
       "      <td>...</td>\n",
       "      <td>...</td>\n",
       "      <td>...</td>\n",
       "      <td>...</td>\n",
       "      <td>...</td>\n",
       "      <td>...</td>\n",
       "    </tr>\n",
       "    <tr>\n",
       "      <th>96823</th>\n",
       "      <td>2010</td>\n",
       "      <td>12</td>\n",
       "      <td>1</td>\n",
       "      <td>12</td>\n",
       "      <td>0.01</td>\n",
       "      <td>1.50</td>\n",
       "    </tr>\n",
       "    <tr>\n",
       "      <th>96880</th>\n",
       "      <td>2010</td>\n",
       "      <td>12</td>\n",
       "      <td>12</td>\n",
       "      <td>9</td>\n",
       "      <td>0.03</td>\n",
       "      <td>0.00</td>\n",
       "    </tr>\n",
       "    <tr>\n",
       "      <th>96881</th>\n",
       "      <td>2010</td>\n",
       "      <td>12</td>\n",
       "      <td>12</td>\n",
       "      <td>9</td>\n",
       "      <td>0.03</td>\n",
       "      <td>0.00</td>\n",
       "    </tr>\n",
       "    <tr>\n",
       "      <th>96882</th>\n",
       "      <td>2010</td>\n",
       "      <td>12</td>\n",
       "      <td>12</td>\n",
       "      <td>21</td>\n",
       "      <td>0.02</td>\n",
       "      <td>0.00</td>\n",
       "    </tr>\n",
       "    <tr>\n",
       "      <th>96883</th>\n",
       "      <td>2010</td>\n",
       "      <td>12</td>\n",
       "      <td>12</td>\n",
       "      <td>21</td>\n",
       "      <td>0.02</td>\n",
       "      <td>1.84</td>\n",
       "    </tr>\n",
       "  </tbody>\n",
       "</table>\n",
       "<p>88964 rows × 6 columns</p>\n",
       "</div>"
      ],
      "text/plain": [
       "       year  month  day  hour HourlyPrecipitation  tip_amount\n",
       "1      2012      1   12     8                0.03        0.00\n",
       "2      2012      1   12     8                0.03        0.00\n",
       "3      2012      1   12     8                0.03        0.00\n",
       "4      2012      1   12     8                0.03        0.00\n",
       "5      2012      1   12     8                0.03        0.00\n",
       "...     ...    ...  ...   ...                 ...         ...\n",
       "96823  2010     12    1    12                0.01        1.50\n",
       "96880  2010     12   12     9                0.03        0.00\n",
       "96881  2010     12   12     9                0.03        0.00\n",
       "96882  2010     12   12    21                0.02        0.00\n",
       "96883  2010     12   12    21                0.02        1.84\n",
       "\n",
       "[88964 rows x 6 columns]"
      ]
     },
     "execution_count": 367,
     "metadata": {},
     "output_type": "execute_result"
    }
   ],
   "source": [
    "query7 = \"\"\"\n",
    "SELECT weather.year, \n",
    "weather.month, \n",
    "weather.day, \n",
    "weather.hour, \n",
    "weather.HourlyPrecipitation,\n",
    "al.tip_amount\n",
    "\n",
    "FROM hourly AS weather\n",
    "INNER JOIN all_data AS al\n",
    "ON weather.year = al.year \n",
    "    AND weather.month = al.month \n",
    "    AND weather.day = al.day \n",
    "    AND weather.hour = al.hour\n",
    "\"\"\"\n",
    "query_7 = sqldf(query7)\n",
    "query_7.dropna(how='any', inplace=True)\n",
    "\n",
    "#remove non-numeric rows\n",
    "query_7 = query_7[query_7[\"HourlyPrecipitation\"] != \"T\"]\n",
    "query_7 = query_7[~query_7[\"HourlyPrecipitation\"].str.contains(\"s\")]\n",
    "query_7"
   ]
  },
  {
   "cell_type": "code",
   "execution_count": 368,
   "id": "a60a591e",
   "metadata": {},
   "outputs": [],
   "source": [
    "with open(\"Precipitation_vs_Tip_Amount.sql\", \"w+\") as f:\n",
    "        f.write(query7)\n",
    "        f.write('\\n\\n')"
   ]
  },
  {
   "cell_type": "code",
   "execution_count": 282,
   "id": "47321a73",
   "metadata": {
    "scrolled": true
   },
   "outputs": [
    {
     "data": {
      "text/plain": [
       "Text(0, 0.5, 'Tip Amount')"
      ]
     },
     "execution_count": 282,
     "metadata": {},
     "output_type": "execute_result"
    },
    {
     "data": {
      "image/png": "[encoded data removed]",
      "text/plain": [
       "<Figure size 432x288 with 1 Axes>"
      ]
     },
     "metadata": {
      "needs_background": "light"
     },
     "output_type": "display_data"
    }
   ],
   "source": [
    "plt.scatter(query_7[\"HourlyPrecipitation\"], query_7[\"tip_amount\"])\n",
    "plt.title(\"Precipitation vs Tip Amount\")\n",
    "plt.xlabel(\"Precipitation\")\n",
    "plt.ylabel(\"Tip Amount\")\n",
    "#from this plot, we consider tip amount larger than 40 as outliers"
   ]
  },
  {
   "cell_type": "code",
   "execution_count": 283,
   "id": "71df750a",
   "metadata": {
    "scrolled": true
   },
   "outputs": [
    {
     "data": {
      "text/plain": [
       "Text(0, 0.5, 'Tip Amount')"
      ]
     },
     "execution_count": 283,
     "metadata": {},
     "output_type": "execute_result"
    },
    {
     "data": {
      "image/png": "[encoded data removed]",
      "text/plain": [
       "<Figure size 432x288 with 1 Axes>"
      ]
     },
     "metadata": {
      "needs_background": "light"
     },
     "output_type": "display_data"
    }
   ],
   "source": [
    "data = query_7[query_7[\"tip_amount\"] < 40]\n",
    "plt.scatter(data[\"HourlyPrecipitation\"], data[\"tip_amount\"])\n",
    "plt.title(\"Precipitation vs Tip Amount\")\n",
    "plt.xlabel(\"Precipitation\")\n",
    "plt.ylabel(\"Tip Amount\")"
   ]
  },
  {
   "cell_type": "markdown",
   "id": "9e0a2e4f",
   "metadata": {},
   "source": [
    "### 7. Come up with 3 questions on your own that can be answered based on the data in the 4 tables. Create at least one visualization to answer each question. At least one visualization should require data from at least 3 tables."
   ]
  },
  {
   "cell_type": "markdown",
   "id": "01747d81",
   "metadata": {},
   "source": [
    "#### Question 1. What is the average tip amount in each month in 2012?"
   ]
  },
  {
   "cell_type": "code",
   "execution_count": 369,
   "id": "e3da929b",
   "metadata": {
    "scrolled": true
   },
   "outputs": [
    {
     "data": {
      "text/html": [
       "<div>\n",
       "<style scoped>\n",
       "    .dataframe tbody tr th:only-of-type {\n",
       "        vertical-align: middle;\n",
       "    }\n",
       "\n",
       "    .dataframe tbody tr th {\n",
       "        vertical-align: top;\n",
       "    }\n",
       "\n",
       "    .dataframe thead th {\n",
       "        text-align: right;\n",
       "    }\n",
       "</style>\n",
       "<table border=\"1\" class=\"dataframe\">\n",
       "  <thead>\n",
       "    <tr style=\"text-align: right;\">\n",
       "      <th></th>\n",
       "      <th>year</th>\n",
       "      <th>month</th>\n",
       "      <th>avg_tip_amount</th>\n",
       "    </tr>\n",
       "  </thead>\n",
       "  <tbody>\n",
       "    <tr>\n",
       "      <th>0</th>\n",
       "      <td>2012</td>\n",
       "      <td>1</td>\n",
       "      <td>0.977423</td>\n",
       "    </tr>\n",
       "    <tr>\n",
       "      <th>1</th>\n",
       "      <td>2012</td>\n",
       "      <td>2</td>\n",
       "      <td>1.037749</td>\n",
       "    </tr>\n",
       "    <tr>\n",
       "      <th>2</th>\n",
       "      <td>2012</td>\n",
       "      <td>3</td>\n",
       "      <td>1.094512</td>\n",
       "    </tr>\n",
       "    <tr>\n",
       "      <th>3</th>\n",
       "      <td>2012</td>\n",
       "      <td>4</td>\n",
       "      <td>1.072654</td>\n",
       "    </tr>\n",
       "    <tr>\n",
       "      <th>4</th>\n",
       "      <td>2012</td>\n",
       "      <td>5</td>\n",
       "      <td>1.060640</td>\n",
       "    </tr>\n",
       "    <tr>\n",
       "      <th>5</th>\n",
       "      <td>2012</td>\n",
       "      <td>6</td>\n",
       "      <td>1.123931</td>\n",
       "    </tr>\n",
       "    <tr>\n",
       "      <th>6</th>\n",
       "      <td>2012</td>\n",
       "      <td>7</td>\n",
       "      <td>1.059499</td>\n",
       "    </tr>\n",
       "    <tr>\n",
       "      <th>7</th>\n",
       "      <td>2012</td>\n",
       "      <td>8</td>\n",
       "      <td>1.058252</td>\n",
       "    </tr>\n",
       "    <tr>\n",
       "      <th>8</th>\n",
       "      <td>2012</td>\n",
       "      <td>9</td>\n",
       "      <td>1.243365</td>\n",
       "    </tr>\n",
       "    <tr>\n",
       "      <th>9</th>\n",
       "      <td>2012</td>\n",
       "      <td>10</td>\n",
       "      <td>1.278272</td>\n",
       "    </tr>\n",
       "    <tr>\n",
       "      <th>10</th>\n",
       "      <td>2012</td>\n",
       "      <td>11</td>\n",
       "      <td>1.245591</td>\n",
       "    </tr>\n",
       "    <tr>\n",
       "      <th>11</th>\n",
       "      <td>2012</td>\n",
       "      <td>12</td>\n",
       "      <td>1.210366</td>\n",
       "    </tr>\n",
       "  </tbody>\n",
       "</table>\n",
       "</div>"
      ],
      "text/plain": [
       "    year  month  avg_tip_amount\n",
       "0   2012      1        0.977423\n",
       "1   2012      2        1.037749\n",
       "2   2012      3        1.094512\n",
       "3   2012      4        1.072654\n",
       "4   2012      5        1.060640\n",
       "5   2012      6        1.123931\n",
       "6   2012      7        1.059499\n",
       "7   2012      8        1.058252\n",
       "8   2012      9        1.243365\n",
       "9   2012     10        1.278272\n",
       "10  2012     11        1.245591\n",
       "11  2012     12        1.210366"
      ]
     },
     "execution_count": 369,
     "metadata": {},
     "output_type": "execute_result"
    }
   ],
   "source": [
    "query8 = \"\"\"\n",
    "SELECT year, month, AVG(tip_amount) AS avg_tip_amount\n",
    "FROM all_data\n",
    "WHERE year = 2012\n",
    "GROUP BY month\n",
    "\"\"\"\n",
    "query_8 = sqldf(query8)\n",
    "query_8"
   ]
  },
  {
   "cell_type": "code",
   "execution_count": 370,
   "id": "c82b492d",
   "metadata": {},
   "outputs": [],
   "source": [
    "with open(\"Average_Tip_Amount_in_2012.sql\", \"w+\") as f:\n",
    "        f.write(query8)\n",
    "        f.write('\\n\\n')"
   ]
  },
  {
   "cell_type": "code",
   "execution_count": 251,
   "id": "ab8c7741",
   "metadata": {
    "scrolled": true
   },
   "outputs": [
    {
     "data": {
      "image/png": "[encoded data removed]",
      "text/plain": [
       "<Figure size 432x288 with 1 Axes>"
      ]
     },
     "metadata": {
      "needs_background": "light"
     },
     "output_type": "display_data"
    }
   ],
   "source": [
    "plt.bar(query_8[\"month\"], query_8[\"avg_tip_amount\"], width = 0.4)\n",
    "plt.xlabel(\"month\")\n",
    "plt.ylabel(\"average tip amount\")\n",
    "plt.title(\"Average Tip Amount in 2012\")\n",
    "plt.show()"
   ]
  },
  {
   "cell_type": "markdown",
   "id": "2f9093a9",
   "metadata": {},
   "source": [
    "#### Question 2. How does distance relate to tip amount when there was precipitation in 2012?"
   ]
  },
  {
   "cell_type": "code",
   "execution_count": 371,
   "id": "5e930ead",
   "metadata": {
    "scrolled": true
   },
   "outputs": [
    {
     "data": {
      "text/html": [
       "<div>\n",
       "<style scoped>\n",
       "    .dataframe tbody tr th:only-of-type {\n",
       "        vertical-align: middle;\n",
       "    }\n",
       "\n",
       "    .dataframe tbody tr th {\n",
       "        vertical-align: top;\n",
       "    }\n",
       "\n",
       "    .dataframe thead th {\n",
       "        text-align: right;\n",
       "    }\n",
       "</style>\n",
       "<table border=\"1\" class=\"dataframe\">\n",
       "  <thead>\n",
       "    <tr style=\"text-align: right;\">\n",
       "      <th></th>\n",
       "      <th>year</th>\n",
       "      <th>month</th>\n",
       "      <th>day</th>\n",
       "      <th>avg_tip_amount</th>\n",
       "      <th>avg_distance</th>\n",
       "    </tr>\n",
       "  </thead>\n",
       "  <tbody>\n",
       "    <tr>\n",
       "      <th>0</th>\n",
       "      <td>2012</td>\n",
       "      <td>7</td>\n",
       "      <td>31</td>\n",
       "      <td>1.258298</td>\n",
       "      <td>3.226762</td>\n",
       "    </tr>\n",
       "    <tr>\n",
       "      <th>1</th>\n",
       "      <td>2012</td>\n",
       "      <td>8</td>\n",
       "      <td>1</td>\n",
       "      <td>1.059211</td>\n",
       "      <td>2.938188</td>\n",
       "    </tr>\n",
       "    <tr>\n",
       "      <th>2</th>\n",
       "      <td>2012</td>\n",
       "      <td>8</td>\n",
       "      <td>2</td>\n",
       "      <td>1.322083</td>\n",
       "      <td>93.727136</td>\n",
       "    </tr>\n",
       "    <tr>\n",
       "      <th>3</th>\n",
       "      <td>2012</td>\n",
       "      <td>8</td>\n",
       "      <td>3</td>\n",
       "      <td>1.351263</td>\n",
       "      <td>3.693735</td>\n",
       "    </tr>\n",
       "    <tr>\n",
       "      <th>4</th>\n",
       "      <td>2012</td>\n",
       "      <td>8</td>\n",
       "      <td>4</td>\n",
       "      <td>1.008172</td>\n",
       "      <td>3.635697</td>\n",
       "    </tr>\n",
       "    <tr>\n",
       "      <th>...</th>\n",
       "      <td>...</td>\n",
       "      <td>...</td>\n",
       "      <td>...</td>\n",
       "      <td>...</td>\n",
       "      <td>...</td>\n",
       "    </tr>\n",
       "    <tr>\n",
       "      <th>149</th>\n",
       "      <td>2012</td>\n",
       "      <td>12</td>\n",
       "      <td>27</td>\n",
       "      <td>0.999672</td>\n",
       "      <td>2.660629</td>\n",
       "    </tr>\n",
       "    <tr>\n",
       "      <th>150</th>\n",
       "      <td>2012</td>\n",
       "      <td>12</td>\n",
       "      <td>28</td>\n",
       "      <td>0.931412</td>\n",
       "      <td>105.539776</td>\n",
       "    </tr>\n",
       "    <tr>\n",
       "      <th>151</th>\n",
       "      <td>2012</td>\n",
       "      <td>12</td>\n",
       "      <td>29</td>\n",
       "      <td>0.955729</td>\n",
       "      <td>3.734283</td>\n",
       "    </tr>\n",
       "    <tr>\n",
       "      <th>152</th>\n",
       "      <td>2012</td>\n",
       "      <td>12</td>\n",
       "      <td>30</td>\n",
       "      <td>0.915195</td>\n",
       "      <td>3.160411</td>\n",
       "    </tr>\n",
       "    <tr>\n",
       "      <th>153</th>\n",
       "      <td>2012</td>\n",
       "      <td>12</td>\n",
       "      <td>31</td>\n",
       "      <td>1.161146</td>\n",
       "      <td>3.394777</td>\n",
       "    </tr>\n",
       "  </tbody>\n",
       "</table>\n",
       "<p>154 rows × 5 columns</p>\n",
       "</div>"
      ],
      "text/plain": [
       "     year  month  day  avg_tip_amount  avg_distance\n",
       "0    2012      7   31        1.258298      3.226762\n",
       "1    2012      8    1        1.059211      2.938188\n",
       "2    2012      8    2        1.322083     93.727136\n",
       "3    2012      8    3        1.351263      3.693735\n",
       "4    2012      8    4        1.008172      3.635697\n",
       "..    ...    ...  ...             ...           ...\n",
       "149  2012     12   27        0.999672      2.660629\n",
       "150  2012     12   28        0.931412    105.539776\n",
       "151  2012     12   29        0.955729      3.734283\n",
       "152  2012     12   30        0.915195      3.160411\n",
       "153  2012     12   31        1.161146      3.394777\n",
       "\n",
       "[154 rows x 5 columns]"
      ]
     },
     "execution_count": 371,
     "metadata": {},
     "output_type": "execute_result"
    }
   ],
   "source": [
    "query9 = \"\"\"\n",
    "SELECT weather.year, \n",
    "weather.month, \n",
    "weather.day,  \n",
    "AVG(al.tip_amount) AS avg_tip_amount,\n",
    "AVG(al.distance) AS avg_distance\n",
    "\n",
    "FROM daily AS weather\n",
    "INNER JOIN all_data AS al\n",
    "ON weather.year = al.year \n",
    "    AND weather.month = al.month \n",
    "    AND weather.day = al.day \n",
    "WHERE \n",
    "    (weather.year = 2012) AND (weather.DailyPrecipitation > 0)\n",
    "    \n",
    "GROUP BY weather.month, weather.day\n",
    "\"\"\"\n",
    "query_9 = sqldf(query9)\n",
    "query_9"
   ]
  },
  {
   "cell_type": "code",
   "execution_count": 372,
   "id": "43ba05e7",
   "metadata": {},
   "outputs": [],
   "source": [
    "with open(\"Distance_and_Tip_Amount_in_2012.sql\", \"w+\") as f:\n",
    "        f.write(query9)\n",
    "        f.write('\\n\\n')"
   ]
  },
  {
   "cell_type": "code",
   "execution_count": 257,
   "id": "ba9a39d6",
   "metadata": {
    "scrolled": true
   },
   "outputs": [
    {
     "data": {
      "text/plain": [
       "Text(0, 0.5, 'Tips')"
      ]
     },
     "execution_count": 257,
     "metadata": {},
     "output_type": "execute_result"
    },
    {
     "data": {
      "image/png": "[encoded data removed]",
      "text/plain": [
       "<Figure size 432x288 with 1 Axes>"
      ]
     },
     "metadata": {
      "needs_background": "light"
     },
     "output_type": "display_data"
    }
   ],
   "source": [
    "data = query_9\n",
    "plt.scatter(data[\"avg_distance\"], data[\"avg_tip_amount\"])\n",
    "plt.title(\"Distance vs Tip Amount\")\n",
    "plt.xlabel(\"Distance\")\n",
    "plt.ylabel(\"Tips\")"
   ]
  },
  {
   "cell_type": "markdown",
   "id": "4c3b1815",
   "metadata": {},
   "source": [
    "#### Question 3. In each year, what is the number of rides of Uber vs. Yellow Taxi when there was precipitation?"
   ]
  },
  {
   "cell_type": "code",
   "execution_count": 373,
   "id": "aec10f9e",
   "metadata": {
    "scrolled": true
   },
   "outputs": [
    {
     "data": {
      "text/html": [
       "<div>\n",
       "<style scoped>\n",
       "    .dataframe tbody tr th:only-of-type {\n",
       "        vertical-align: middle;\n",
       "    }\n",
       "\n",
       "    .dataframe tbody tr th {\n",
       "        vertical-align: top;\n",
       "    }\n",
       "\n",
       "    .dataframe thead th {\n",
       "        text-align: right;\n",
       "    }\n",
       "</style>\n",
       "<table border=\"1\" class=\"dataframe\">\n",
       "  <thead>\n",
       "    <tr style=\"text-align: right;\">\n",
       "      <th></th>\n",
       "      <th>uber_counts</th>\n",
       "      <th>year</th>\n",
       "    </tr>\n",
       "  </thead>\n",
       "  <tbody>\n",
       "    <tr>\n",
       "      <th>0</th>\n",
       "      <td>4988984</td>\n",
       "      <td>2012</td>\n",
       "    </tr>\n",
       "    <tr>\n",
       "      <th>1</th>\n",
       "      <td>11386175</td>\n",
       "      <td>2013</td>\n",
       "    </tr>\n",
       "    <tr>\n",
       "      <th>2</th>\n",
       "      <td>10938320</td>\n",
       "      <td>2014</td>\n",
       "    </tr>\n",
       "    <tr>\n",
       "      <th>3</th>\n",
       "      <td>5024590</td>\n",
       "      <td>2015</td>\n",
       "    </tr>\n",
       "  </tbody>\n",
       "</table>\n",
       "</div>"
      ],
      "text/plain": [
       "   uber_counts  year\n",
       "0      4988984  2012\n",
       "1     11386175  2013\n",
       "2     10938320  2014\n",
       "3      5024590  2015"
      ]
     },
     "execution_count": 373,
     "metadata": {},
     "output_type": "execute_result"
    }
   ],
   "source": [
    "query10 = \"\"\"\n",
    "SELECT COUNT(*) AS uber_counts, uber.year\n",
    "FROM uber AS uber\n",
    "INNER JOIN daily AS weather\n",
    "ON weather.year = uber.year \n",
    "    \n",
    "WHERE weather.DailyPrecipitation > 0\n",
    "GROUP BY uber.year\n",
    "\"\"\"\n",
    "query_10 = sqldf(query10)\n",
    "query_10"
   ]
  },
  {
   "cell_type": "code",
   "execution_count": 375,
   "id": "e0badf9c",
   "metadata": {},
   "outputs": [],
   "source": [
    "with open(\"Uber_counts_precipitation.sql\", \"w+\") as f:\n",
    "        f.write(query10)\n",
    "        f.write('\\n\\n')"
   ]
  },
  {
   "cell_type": "code",
   "execution_count": 374,
   "id": "ec965764",
   "metadata": {
    "scrolled": true
   },
   "outputs": [
    {
     "data": {
      "text/html": [
       "<div>\n",
       "<style scoped>\n",
       "    .dataframe tbody tr th:only-of-type {\n",
       "        vertical-align: middle;\n",
       "    }\n",
       "\n",
       "    .dataframe tbody tr th {\n",
       "        vertical-align: top;\n",
       "    }\n",
       "\n",
       "    .dataframe thead th {\n",
       "        text-align: right;\n",
       "    }\n",
       "</style>\n",
       "<table border=\"1\" class=\"dataframe\">\n",
       "  <thead>\n",
       "    <tr style=\"text-align: right;\">\n",
       "      <th></th>\n",
       "      <th>taxi_counts</th>\n",
       "      <th>year</th>\n",
       "    </tr>\n",
       "  </thead>\n",
       "  <tbody>\n",
       "    <tr>\n",
       "      <th>0</th>\n",
       "      <td>5392002</td>\n",
       "      <td>2012</td>\n",
       "    </tr>\n",
       "    <tr>\n",
       "      <th>1</th>\n",
       "      <td>12429710</td>\n",
       "      <td>2013</td>\n",
       "    </tr>\n",
       "    <tr>\n",
       "      <th>2</th>\n",
       "      <td>10841595</td>\n",
       "      <td>2014</td>\n",
       "    </tr>\n",
       "    <tr>\n",
       "      <th>3</th>\n",
       "      <td>5578295</td>\n",
       "      <td>2015</td>\n",
       "    </tr>\n",
       "  </tbody>\n",
       "</table>\n",
       "</div>"
      ],
      "text/plain": [
       "   taxi_counts  year\n",
       "0      5392002  2012\n",
       "1     12429710  2013\n",
       "2     10841595  2014\n",
       "3      5578295  2015"
      ]
     },
     "execution_count": 374,
     "metadata": {},
     "output_type": "execute_result"
    }
   ],
   "source": [
    "query11 = \"\"\"\n",
    "SELECT COUNT(*) AS taxi_counts, al.year\n",
    "FROM all_data AS al\n",
    "INNER JOIN daily AS weather\n",
    "ON weather.year = al.year \n",
    "\n",
    "WHERE weather.DailyPrecipitation > 0\n",
    "GROUP BY al.year\n",
    "\"\"\"\n",
    "query_11 = sqldf(query11)\n",
    "query_11"
   ]
  },
  {
   "cell_type": "code",
   "execution_count": 376,
   "id": "ad09f7cf",
   "metadata": {},
   "outputs": [],
   "source": [
    "with open(\"Taxi_counts_precipitation.sql\", \"w+\") as f:\n",
    "        f.write(query11)\n",
    "        f.write('\\n\\n')"
   ]
  },
  {
   "cell_type": "code",
   "execution_count": 290,
   "id": "96da8b11",
   "metadata": {
    "scrolled": true
   },
   "outputs": [
    {
     "data": {
      "text/plain": [
       "<AxesSubplot:title={'center':'Number of Rides: Uber vs. Taxi'}, xlabel='Year', ylabel='Number of Rides'>"
      ]
     },
     "execution_count": 290,
     "metadata": {},
     "output_type": "execute_result"
    },
    {
     "data": {
      "image/png": "[encoded data removed]",
      "text/plain": [
       "<Figure size 432x288 with 1 Axes>"
      ]
     },
     "metadata": {
      "needs_background": "light"
     },
     "output_type": "display_data"
    }
   ],
   "source": [
    "result = pd.merge(query_10, query_11, on ='year')\n",
    "result.plot(x=\"year\", y=[\"uber_counts\", \"taxi_counts\"], kind = \"bar\", title = \"Number of Rides: Uber vs. Taxi\", xlabel = \"Year\", ylabel = \"Number of Rides\")\n",
    "\n"
   ]
  },
  {
   "cell_type": "code",
   "execution_count": null,
   "id": "d762f438",
   "metadata": {},
   "outputs": [],
   "source": []
  }
 ],
 "metadata": {
  "kernelspec": {
   "display_name": "Python 3 (ipykernel)",
   "language": "python",
   "name": "python3"
  },
  "language_info": {
   "codemirror_mode": {
    "name": "ipython",
    "version": 3
   },
   "file_extension": ".py",
   "mimetype": "text/x-python",
   "name": "python",
   "nbconvert_exporter": "python",
   "pygments_lexer": "ipython3",
   "version": "3.9.7"
  }
 },
 "nbformat": 4,
 "nbformat_minor": 5
}
